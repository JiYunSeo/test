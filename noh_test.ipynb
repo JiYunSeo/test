{
 "cells": [
  {
   "cell_type": "code",
   "execution_count": 1,
   "metadata": {},
   "outputs": [
    {
     "data": {
      "text/html": [
       "<div>\n",
       "<style scoped>\n",
       "    .dataframe tbody tr th:only-of-type {\n",
       "        vertical-align: middle;\n",
       "    }\n",
       "\n",
       "    .dataframe tbody tr th {\n",
       "        vertical-align: top;\n",
       "    }\n",
       "\n",
       "    .dataframe thead th {\n",
       "        text-align: right;\n",
       "    }\n",
       "</style>\n",
       "<table border=\"1\" class=\"dataframe\">\n",
       "  <thead>\n",
       "    <tr style=\"text-align: right;\">\n",
       "      <th></th>\n",
       "      <th>A</th>\n",
       "      <th>B</th>\n",
       "      <th>C</th>\n",
       "      <th>D</th>\n",
       "      <th>E</th>\n",
       "      <th>F</th>\n",
       "      <th>G</th>\n",
       "      <th>H</th>\n",
       "      <th>I</th>\n",
       "      <th>J</th>\n",
       "      <th>K</th>\n",
       "      <th>L</th>\n",
       "      <th>M</th>\n",
       "      <th>N</th>\n",
       "    </tr>\n",
       "  </thead>\n",
       "  <tbody>\n",
       "    <tr>\n",
       "      <th>0</th>\n",
       "      <td>F</td>\n",
       "      <td>47</td>\n",
       "      <td>0</td>\n",
       "      <td>P/M</td>\n",
       "      <td>100</td>\n",
       "      <td>27</td>\n",
       "      <td>27</td>\n",
       "      <td>72</td>\n",
       "      <td>72</td>\n",
       "      <td>3.48</td>\n",
       "      <td>8</td>\n",
       "      <td>8</td>\n",
       "      <td>42</td>\n",
       "      <td>1</td>\n",
       "    </tr>\n",
       "    <tr>\n",
       "      <th>1</th>\n",
       "      <td>F</td>\n",
       "      <td>47</td>\n",
       "      <td>0</td>\n",
       "      <td>P/M</td>\n",
       "      <td>94</td>\n",
       "      <td>30</td>\n",
       "      <td>30</td>\n",
       "      <td>81</td>\n",
       "      <td>81</td>\n",
       "      <td>4.16</td>\n",
       "      <td>2</td>\n",
       "      <td>2</td>\n",
       "      <td>78</td>\n",
       "      <td>1</td>\n",
       "    </tr>\n",
       "    <tr>\n",
       "      <th>2</th>\n",
       "      <td>F</td>\n",
       "      <td>47</td>\n",
       "      <td>0</td>\n",
       "      <td>P/M</td>\n",
       "      <td>94</td>\n",
       "      <td>30</td>\n",
       "      <td>30</td>\n",
       "      <td>81</td>\n",
       "      <td>81</td>\n",
       "      <td>4.16</td>\n",
       "      <td>6</td>\n",
       "      <td>5</td>\n",
       "      <td>92</td>\n",
       "      <td>1</td>\n",
       "    </tr>\n",
       "    <tr>\n",
       "      <th>3</th>\n",
       "      <td>F</td>\n",
       "      <td>37</td>\n",
       "      <td>0</td>\n",
       "      <td>P/M</td>\n",
       "      <td>94</td>\n",
       "      <td>7</td>\n",
       "      <td>7</td>\n",
       "      <td>18</td>\n",
       "      <td>18</td>\n",
       "      <td>3.67</td>\n",
       "      <td>2</td>\n",
       "      <td>2</td>\n",
       "      <td>21</td>\n",
       "      <td>1</td>\n",
       "    </tr>\n",
       "    <tr>\n",
       "      <th>4</th>\n",
       "      <td>F</td>\n",
       "      <td>48</td>\n",
       "      <td>2</td>\n",
       "      <td>P/M</td>\n",
       "      <td>77</td>\n",
       "      <td>13</td>\n",
       "      <td>13</td>\n",
       "      <td>36</td>\n",
       "      <td>36</td>\n",
       "      <td>1.67</td>\n",
       "      <td>3</td>\n",
       "      <td>0</td>\n",
       "      <td>0</td>\n",
       "      <td>1</td>\n",
       "    </tr>\n",
       "  </tbody>\n",
       "</table>\n",
       "</div>"
      ],
      "text/plain": [
       "   A   B  C    D    E   F   G   H   I     J  K  L   M  N\n",
       "0  F  47  0  P/M  100  27  27  72  72  3.48  8  8  42  1\n",
       "1  F  47  0  P/M   94  30  30  81  81  4.16  2  2  78  1\n",
       "2  F  47  0  P/M   94  30  30  81  81  4.16  6  5  92  1\n",
       "3  F  37  0  P/M   94   7   7  18  18  3.67  2  2  21  1\n",
       "4  F  48  2  P/M   77  13  13  36  36  1.67  3  0   0  1"
      ]
     },
     "execution_count": 1,
     "metadata": {},
     "output_type": "execute_result"
    }
   ],
   "source": [
    "import numpy as np \n",
    "import pandas as pd \n",
    "import matplotlib.pyplot as plt\n",
    "from matplotlib import pyplot\n",
    "import os\n",
    "from collections import Counter\n",
    "import seaborn as sns\n",
    "\n",
    "train = pd.read_csv('./input/noh.csv')\n",
    "train.head()"
   ]
  },
  {
   "cell_type": "code",
   "execution_count": 2,
   "metadata": {},
   "outputs": [
    {
     "name": "stdout",
     "output_type": "stream",
     "text": [
      "<class 'pandas.core.frame.DataFrame'>\n",
      "RangeIndex: 414 entries, 0 to 413\n",
      "Data columns (total 14 columns):\n",
      " #   Column  Non-Null Count  Dtype  \n",
      "---  ------  --------------  -----  \n",
      " 0   A       414 non-null    object \n",
      " 1   B       414 non-null    int64  \n",
      " 2   C       414 non-null    int64  \n",
      " 3   D       414 non-null    object \n",
      " 4   E       414 non-null    int64  \n",
      " 5   F       414 non-null    int64  \n",
      " 6   G       414 non-null    int64  \n",
      " 7   H       414 non-null    int64  \n",
      " 8   I       414 non-null    int64  \n",
      " 9   J       414 non-null    float64\n",
      " 10  K       414 non-null    int64  \n",
      " 11  L       414 non-null    int64  \n",
      " 12  M       414 non-null    int64  \n",
      " 13  N       414 non-null    int64  \n",
      "dtypes: float64(1), int64(11), object(2)\n",
      "memory usage: 45.4+ KB\n"
     ]
    }
   ],
   "source": [
    "train.info()"
   ]
  },
  {
   "cell_type": "code",
   "execution_count": 3,
   "metadata": {},
   "outputs": [
    {
     "data": {
      "text/html": [
       "<div>\n",
       "<style scoped>\n",
       "    .dataframe tbody tr th:only-of-type {\n",
       "        vertical-align: middle;\n",
       "    }\n",
       "\n",
       "    .dataframe tbody tr th {\n",
       "        vertical-align: top;\n",
       "    }\n",
       "\n",
       "    .dataframe thead th {\n",
       "        text-align: right;\n",
       "    }\n",
       "</style>\n",
       "<table border=\"1\" class=\"dataframe\">\n",
       "  <thead>\n",
       "    <tr style=\"text-align: right;\">\n",
       "      <th></th>\n",
       "      <th>B</th>\n",
       "      <th>C</th>\n",
       "      <th>E</th>\n",
       "      <th>F</th>\n",
       "      <th>G</th>\n",
       "      <th>H</th>\n",
       "      <th>I</th>\n",
       "      <th>J</th>\n",
       "      <th>K</th>\n",
       "      <th>L</th>\n",
       "      <th>M</th>\n",
       "      <th>N</th>\n",
       "    </tr>\n",
       "  </thead>\n",
       "  <tbody>\n",
       "    <tr>\n",
       "      <th>count</th>\n",
       "      <td>414.000000</td>\n",
       "      <td>414.000000</td>\n",
       "      <td>414.000000</td>\n",
       "      <td>414.000000</td>\n",
       "      <td>414.000000</td>\n",
       "      <td>414.000000</td>\n",
       "      <td>414.000000</td>\n",
       "      <td>414.000000</td>\n",
       "      <td>414.000000</td>\n",
       "      <td>414.000000</td>\n",
       "      <td>414.000000</td>\n",
       "      <td>414.000000</td>\n",
       "    </tr>\n",
       "    <tr>\n",
       "      <th>mean</th>\n",
       "      <td>41.958937</td>\n",
       "      <td>0.299517</td>\n",
       "      <td>69.446860</td>\n",
       "      <td>14.862319</td>\n",
       "      <td>14.867150</td>\n",
       "      <td>39.577295</td>\n",
       "      <td>41.850242</td>\n",
       "      <td>2.867367</td>\n",
       "      <td>2.374396</td>\n",
       "      <td>1.403382</td>\n",
       "      <td>28.500000</td>\n",
       "      <td>1.130435</td>\n",
       "    </tr>\n",
       "    <tr>\n",
       "      <th>std</th>\n",
       "      <td>9.998099</td>\n",
       "      <td>0.750883</td>\n",
       "      <td>42.131879</td>\n",
       "      <td>8.679266</td>\n",
       "      <td>8.153743</td>\n",
       "      <td>24.945220</td>\n",
       "      <td>24.263421</td>\n",
       "      <td>1.273766</td>\n",
       "      <td>2.105549</td>\n",
       "      <td>1.684307</td>\n",
       "      <td>52.839689</td>\n",
       "      <td>0.464102</td>\n",
       "    </tr>\n",
       "    <tr>\n",
       "      <th>min</th>\n",
       "      <td>18.000000</td>\n",
       "      <td>0.000000</td>\n",
       "      <td>0.000000</td>\n",
       "      <td>0.000000</td>\n",
       "      <td>0.000000</td>\n",
       "      <td>0.000000</td>\n",
       "      <td>0.000000</td>\n",
       "      <td>0.000000</td>\n",
       "      <td>0.000000</td>\n",
       "      <td>0.000000</td>\n",
       "      <td>0.000000</td>\n",
       "      <td>0.000000</td>\n",
       "    </tr>\n",
       "    <tr>\n",
       "      <th>25%</th>\n",
       "      <td>36.000000</td>\n",
       "      <td>0.000000</td>\n",
       "      <td>0.000000</td>\n",
       "      <td>7.000000</td>\n",
       "      <td>8.000000</td>\n",
       "      <td>18.000000</td>\n",
       "      <td>21.000000</td>\n",
       "      <td>2.390000</td>\n",
       "      <td>0.000000</td>\n",
       "      <td>0.000000</td>\n",
       "      <td>0.000000</td>\n",
       "      <td>1.000000</td>\n",
       "    </tr>\n",
       "    <tr>\n",
       "      <th>50%</th>\n",
       "      <td>43.000000</td>\n",
       "      <td>0.000000</td>\n",
       "      <td>93.000000</td>\n",
       "      <td>13.000000</td>\n",
       "      <td>13.000000</td>\n",
       "      <td>36.000000</td>\n",
       "      <td>36.000000</td>\n",
       "      <td>3.240000</td>\n",
       "      <td>2.000000</td>\n",
       "      <td>1.000000</td>\n",
       "      <td>3.500000</td>\n",
       "      <td>1.000000</td>\n",
       "    </tr>\n",
       "    <tr>\n",
       "      <th>75%</th>\n",
       "      <td>48.000000</td>\n",
       "      <td>0.000000</td>\n",
       "      <td>100.000000</td>\n",
       "      <td>24.000000</td>\n",
       "      <td>22.750000</td>\n",
       "      <td>69.000000</td>\n",
       "      <td>66.000000</td>\n",
       "      <td>3.690000</td>\n",
       "      <td>4.000000</td>\n",
       "      <td>2.000000</td>\n",
       "      <td>38.750000</td>\n",
       "      <td>1.000000</td>\n",
       "    </tr>\n",
       "    <tr>\n",
       "      <th>max</th>\n",
       "      <td>73.000000</td>\n",
       "      <td>6.000000</td>\n",
       "      <td>100.000000</td>\n",
       "      <td>64.000000</td>\n",
       "      <td>63.000000</td>\n",
       "      <td>97.000000</td>\n",
       "      <td>228.000000</td>\n",
       "      <td>4.500000</td>\n",
       "      <td>8.000000</td>\n",
       "      <td>8.000000</td>\n",
       "      <td>434.000000</td>\n",
       "      <td>2.000000</td>\n",
       "    </tr>\n",
       "  </tbody>\n",
       "</table>\n",
       "</div>"
      ],
      "text/plain": [
       "                B           C           E           F           G           H  \\\n",
       "count  414.000000  414.000000  414.000000  414.000000  414.000000  414.000000   \n",
       "mean    41.958937    0.299517   69.446860   14.862319   14.867150   39.577295   \n",
       "std      9.998099    0.750883   42.131879    8.679266    8.153743   24.945220   \n",
       "min     18.000000    0.000000    0.000000    0.000000    0.000000    0.000000   \n",
       "25%     36.000000    0.000000    0.000000    7.000000    8.000000   18.000000   \n",
       "50%     43.000000    0.000000   93.000000   13.000000   13.000000   36.000000   \n",
       "75%     48.000000    0.000000  100.000000   24.000000   22.750000   69.000000   \n",
       "max     73.000000    6.000000  100.000000   64.000000   63.000000   97.000000   \n",
       "\n",
       "                I           J           K           L           M           N  \n",
       "count  414.000000  414.000000  414.000000  414.000000  414.000000  414.000000  \n",
       "mean    41.850242    2.867367    2.374396    1.403382   28.500000    1.130435  \n",
       "std     24.263421    1.273766    2.105549    1.684307   52.839689    0.464102  \n",
       "min      0.000000    0.000000    0.000000    0.000000    0.000000    0.000000  \n",
       "25%     21.000000    2.390000    0.000000    0.000000    0.000000    1.000000  \n",
       "50%     36.000000    3.240000    2.000000    1.000000    3.500000    1.000000  \n",
       "75%     66.000000    3.690000    4.000000    2.000000   38.750000    1.000000  \n",
       "max    228.000000    4.500000    8.000000    8.000000  434.000000    2.000000  "
      ]
     },
     "execution_count": 3,
     "metadata": {},
     "output_type": "execute_result"
    }
   ],
   "source": [
    "train.describe()"
   ]
  },
  {
   "cell_type": "code",
   "execution_count": 4,
   "metadata": {},
   "outputs": [
    {
     "name": "stdout",
     "output_type": "stream",
     "text": [
      "A: ['F' 'M']\n",
      "B: [47 37 48 52 56 38 41 43 45 34 53 44 22 49 33 25 40 20 18 54 21 30 46 35\n",
      " 51 39 27 28 50 69 36 31 42 23 55 24 32 60 29 26 58 62 57 59 67 64 68 66\n",
      " 63 70 73]\n",
      "C: [0 2 1 3 4 6 5]\n",
      "D: ['P/M' 'P' 'N' 'M']\n",
      "E: [100  94  77  93  88  91  90  11   0  95  75   7  92  79  65  40  97  47\n",
      "  89  37  96  99  86  87  36  42   1  62  98  78  70  64  66  41  31]\n",
      "F: [27 30  7 13 25 19  9 23  6  3 20 11 35 24 14 22 15 17 12  5  8 31 26 21\n",
      " 18 16 28  0  4 64]\n",
      "G: [27 30  7 13 18 12  9 25 23  0 20 11 21  8 14 15  5  6 24 26 19 16 28 22\n",
      " 10  4 17 63]\n",
      "H: [72 81 18 36 69 54 24 71 66 78  9 31 97 52 53 63 57 51 33 39 44 35 12 21\n",
      " 59 37 45 70 90 55 15  0 42 34 87]\n",
      "I: [ 72  81  18  36  51  24  71  66  78   0  54  31  59  52  53  21  57  33\n",
      "  39  35  12  69  60  37  45  70  17  15  11  16  26  32  43  82  42  30\n",
      "  34  48 228  87]\n",
      "J: [3.48 4.16 3.67 1.67 3.24 3.33 3.25 4.   3.29 3.17 3.   3.5  2.31 2.96\n",
      " 3.42 3.45 3.6  3.07 0.   3.2  1.98 4.35 2.38 3.64 3.58 2.71 2.92 4.12\n",
      " 3.31 2.77 2.55 3.01 3.73 2.59 1.28 3.39 3.93 3.26 1.5  3.08 2.21 4.23\n",
      " 2.95 4.5  2.65 2.63 1.36 4.39 4.19 2.42 3.75 2.12 3.92 4.14 4.27 4.17\n",
      " 4.33 3.59 2.   3.13 3.57 3.71 1.17 4.42 2.67 3.83 3.12 3.04 3.88 2.5\n",
      " 2.17 4.25 4.08 2.35 3.85 3.18 3.69 3.44 1.31 3.54 4.4  3.84 4.11 2.81\n",
      " 3.65 2.54 4.04 3.46 3.35 3.38 3.06 3.63 3.55 1.26 2.2  3.79 2.36 3.02\n",
      " 3.3  4.1  1.21 3.98 2.97 2.14 3.15 1.04 2.88 0.2  2.46 3.14 3.1  0.63\n",
      " 3.82 3.43 3.61 0.4  3.21 2.58 3.34 2.34 1.91 3.68 0.69 1.23 1.58 1.41\n",
      " 2.33 2.13 4.02 3.19]\n",
      "K: [8 2 6 3 0 4 5 1 7]\n",
      "L: [8 2 5 0 3 1 4 6 7]\n",
      "M: [ 42  78  92  21   0   8  53  52  26  90  33  13  12  45   4   7 164   3\n",
      "  19 230   6  17 103  79  24  56  38  29   5  60  35  32 133  57   1  27\n",
      "  23 135 210  40  98 434 366  10 148  14 338   2  41  70  67  20  66 116\n",
      "  22 112 101  83 186  63 107 251   9  65  94  82  16 105  36  49  46  69\n",
      " 254 181  25  61  93  86  58  76  18 155  34  39  54 196  95  44  28 109\n",
      " 118 131 241  74 218  89  87  55 129  48  75  31]\n",
      "N: [1 0 2]\n"
     ]
    }
   ],
   "source": [
    "for label, content in train.items():\n",
    "    print(\"%s:\" % label, train[label].unique())"
   ]
  },
  {
   "cell_type": "code",
   "execution_count": 5,
   "metadata": {},
   "outputs": [
    {
     "data": {
      "text/html": [
       "<div>\n",
       "<style scoped>\n",
       "    .dataframe tbody tr th:only-of-type {\n",
       "        vertical-align: middle;\n",
       "    }\n",
       "\n",
       "    .dataframe tbody tr th {\n",
       "        vertical-align: top;\n",
       "    }\n",
       "\n",
       "    .dataframe thead th {\n",
       "        text-align: right;\n",
       "    }\n",
       "</style>\n",
       "<table border=\"1\" class=\"dataframe\">\n",
       "  <thead>\n",
       "    <tr style=\"text-align: right;\">\n",
       "      <th></th>\n",
       "      <th>A</th>\n",
       "      <th>B</th>\n",
       "      <th>C</th>\n",
       "      <th>D</th>\n",
       "      <th>E</th>\n",
       "      <th>F</th>\n",
       "      <th>G</th>\n",
       "      <th>H</th>\n",
       "      <th>I</th>\n",
       "      <th>J</th>\n",
       "      <th>K</th>\n",
       "      <th>L</th>\n",
       "      <th>M</th>\n",
       "      <th>N</th>\n",
       "    </tr>\n",
       "  </thead>\n",
       "  <tbody>\n",
       "    <tr>\n",
       "      <th>0</th>\n",
       "      <td>1</td>\n",
       "      <td>47</td>\n",
       "      <td>0</td>\n",
       "      <td>P/M</td>\n",
       "      <td>100</td>\n",
       "      <td>27</td>\n",
       "      <td>27</td>\n",
       "      <td>72</td>\n",
       "      <td>72</td>\n",
       "      <td>3.48</td>\n",
       "      <td>8</td>\n",
       "      <td>8</td>\n",
       "      <td>42</td>\n",
       "      <td>1</td>\n",
       "    </tr>\n",
       "    <tr>\n",
       "      <th>1</th>\n",
       "      <td>1</td>\n",
       "      <td>47</td>\n",
       "      <td>0</td>\n",
       "      <td>P/M</td>\n",
       "      <td>94</td>\n",
       "      <td>30</td>\n",
       "      <td>30</td>\n",
       "      <td>81</td>\n",
       "      <td>81</td>\n",
       "      <td>4.16</td>\n",
       "      <td>2</td>\n",
       "      <td>2</td>\n",
       "      <td>78</td>\n",
       "      <td>1</td>\n",
       "    </tr>\n",
       "    <tr>\n",
       "      <th>2</th>\n",
       "      <td>1</td>\n",
       "      <td>47</td>\n",
       "      <td>0</td>\n",
       "      <td>P/M</td>\n",
       "      <td>94</td>\n",
       "      <td>30</td>\n",
       "      <td>30</td>\n",
       "      <td>81</td>\n",
       "      <td>81</td>\n",
       "      <td>4.16</td>\n",
       "      <td>6</td>\n",
       "      <td>5</td>\n",
       "      <td>92</td>\n",
       "      <td>1</td>\n",
       "    </tr>\n",
       "    <tr>\n",
       "      <th>3</th>\n",
       "      <td>1</td>\n",
       "      <td>37</td>\n",
       "      <td>0</td>\n",
       "      <td>P/M</td>\n",
       "      <td>94</td>\n",
       "      <td>7</td>\n",
       "      <td>7</td>\n",
       "      <td>18</td>\n",
       "      <td>18</td>\n",
       "      <td>3.67</td>\n",
       "      <td>2</td>\n",
       "      <td>2</td>\n",
       "      <td>21</td>\n",
       "      <td>1</td>\n",
       "    </tr>\n",
       "    <tr>\n",
       "      <th>4</th>\n",
       "      <td>1</td>\n",
       "      <td>48</td>\n",
       "      <td>2</td>\n",
       "      <td>P/M</td>\n",
       "      <td>77</td>\n",
       "      <td>13</td>\n",
       "      <td>13</td>\n",
       "      <td>36</td>\n",
       "      <td>36</td>\n",
       "      <td>1.67</td>\n",
       "      <td>3</td>\n",
       "      <td>0</td>\n",
       "      <td>0</td>\n",
       "      <td>1</td>\n",
       "    </tr>\n",
       "  </tbody>\n",
       "</table>\n",
       "</div>"
      ],
      "text/plain": [
       "   A   B  C    D    E   F   G   H   I     J  K  L   M  N\n",
       "0  1  47  0  P/M  100  27  27  72  72  3.48  8  8  42  1\n",
       "1  1  47  0  P/M   94  30  30  81  81  4.16  2  2  78  1\n",
       "2  1  47  0  P/M   94  30  30  81  81  4.16  6  5  92  1\n",
       "3  1  37  0  P/M   94   7   7  18  18  3.67  2  2  21  1\n",
       "4  1  48  2  P/M   77  13  13  36  36  1.67  3  0   0  1"
      ]
     },
     "execution_count": 5,
     "metadata": {},
     "output_type": "execute_result"
    }
   ],
   "source": [
    "gender_list = []\n",
    "gender_labels = ['M', 'F']\n",
    "for i in range(len(train)):\n",
    "    gender_list.append(gender_labels.index(train['A'][i]))\n",
    "\n",
    "train['A'] = gender_list\n",
    "train.head()"
   ]
  },
  {
   "cell_type": "code",
   "execution_count": 6,
   "metadata": {},
   "outputs": [
    {
     "data": {
      "text/html": [
       "<div>\n",
       "<style scoped>\n",
       "    .dataframe tbody tr th:only-of-type {\n",
       "        vertical-align: middle;\n",
       "    }\n",
       "\n",
       "    .dataframe tbody tr th {\n",
       "        vertical-align: top;\n",
       "    }\n",
       "\n",
       "    .dataframe thead th {\n",
       "        text-align: right;\n",
       "    }\n",
       "</style>\n",
       "<table border=\"1\" class=\"dataframe\">\n",
       "  <thead>\n",
       "    <tr style=\"text-align: right;\">\n",
       "      <th></th>\n",
       "      <th>A</th>\n",
       "      <th>B</th>\n",
       "      <th>C</th>\n",
       "      <th>D</th>\n",
       "      <th>E</th>\n",
       "      <th>F</th>\n",
       "      <th>G</th>\n",
       "      <th>H</th>\n",
       "      <th>I</th>\n",
       "      <th>J</th>\n",
       "      <th>K</th>\n",
       "      <th>L</th>\n",
       "      <th>M</th>\n",
       "      <th>N</th>\n",
       "    </tr>\n",
       "  </thead>\n",
       "  <tbody>\n",
       "    <tr>\n",
       "      <th>0</th>\n",
       "      <td>1</td>\n",
       "      <td>47</td>\n",
       "      <td>0</td>\n",
       "      <td>2</td>\n",
       "      <td>100</td>\n",
       "      <td>27</td>\n",
       "      <td>27</td>\n",
       "      <td>72</td>\n",
       "      <td>72</td>\n",
       "      <td>3.48</td>\n",
       "      <td>8</td>\n",
       "      <td>8</td>\n",
       "      <td>42</td>\n",
       "      <td>1</td>\n",
       "    </tr>\n",
       "    <tr>\n",
       "      <th>1</th>\n",
       "      <td>1</td>\n",
       "      <td>47</td>\n",
       "      <td>0</td>\n",
       "      <td>2</td>\n",
       "      <td>94</td>\n",
       "      <td>30</td>\n",
       "      <td>30</td>\n",
       "      <td>81</td>\n",
       "      <td>81</td>\n",
       "      <td>4.16</td>\n",
       "      <td>2</td>\n",
       "      <td>2</td>\n",
       "      <td>78</td>\n",
       "      <td>1</td>\n",
       "    </tr>\n",
       "    <tr>\n",
       "      <th>2</th>\n",
       "      <td>1</td>\n",
       "      <td>47</td>\n",
       "      <td>0</td>\n",
       "      <td>2</td>\n",
       "      <td>94</td>\n",
       "      <td>30</td>\n",
       "      <td>30</td>\n",
       "      <td>81</td>\n",
       "      <td>81</td>\n",
       "      <td>4.16</td>\n",
       "      <td>6</td>\n",
       "      <td>5</td>\n",
       "      <td>92</td>\n",
       "      <td>1</td>\n",
       "    </tr>\n",
       "    <tr>\n",
       "      <th>3</th>\n",
       "      <td>1</td>\n",
       "      <td>37</td>\n",
       "      <td>0</td>\n",
       "      <td>2</td>\n",
       "      <td>94</td>\n",
       "      <td>7</td>\n",
       "      <td>7</td>\n",
       "      <td>18</td>\n",
       "      <td>18</td>\n",
       "      <td>3.67</td>\n",
       "      <td>2</td>\n",
       "      <td>2</td>\n",
       "      <td>21</td>\n",
       "      <td>1</td>\n",
       "    </tr>\n",
       "    <tr>\n",
       "      <th>4</th>\n",
       "      <td>1</td>\n",
       "      <td>48</td>\n",
       "      <td>2</td>\n",
       "      <td>2</td>\n",
       "      <td>77</td>\n",
       "      <td>13</td>\n",
       "      <td>13</td>\n",
       "      <td>36</td>\n",
       "      <td>36</td>\n",
       "      <td>1.67</td>\n",
       "      <td>3</td>\n",
       "      <td>0</td>\n",
       "      <td>0</td>\n",
       "      <td>1</td>\n",
       "    </tr>\n",
       "  </tbody>\n",
       "</table>\n",
       "</div>"
      ],
      "text/plain": [
       "   A   B  C  D    E   F   G   H   I     J  K  L   M  N\n",
       "0  1  47  0  2  100  27  27  72  72  3.48  8  8  42  1\n",
       "1  1  47  0  2   94  30  30  81  81  4.16  2  2  78  1\n",
       "2  1  47  0  2   94  30  30  81  81  4.16  6  5  92  1\n",
       "3  1  37  0  2   94   7   7  18  18  3.67  2  2  21  1\n",
       "4  1  48  2  2   77  13  13  36  36  1.67  3  0   0  1"
      ]
     },
     "execution_count": 6,
     "metadata": {},
     "output_type": "execute_result"
    }
   ],
   "source": [
    "count_list = []\n",
    "count_labels = ['P', 'M', 'P/M', 'N']\n",
    "\n",
    "for i in range(len(train)):\n",
    "    count_list.append(count_labels.index(train['D'][i]))\n",
    "\n",
    "train['D'] = count_list\n",
    "train.head()"
   ]
  },
  {
   "cell_type": "code",
   "execution_count": 7,
   "metadata": {},
   "outputs": [
    {
     "name": "stdout",
     "output_type": "stream",
     "text": [
      "<class 'pandas.core.frame.DataFrame'>\n",
      "RangeIndex: 414 entries, 0 to 413\n",
      "Data columns (total 14 columns):\n",
      " #   Column  Non-Null Count  Dtype  \n",
      "---  ------  --------------  -----  \n",
      " 0   A       414 non-null    int64  \n",
      " 1   B       414 non-null    int64  \n",
      " 2   C       414 non-null    int64  \n",
      " 3   D       414 non-null    int64  \n",
      " 4   E       414 non-null    int64  \n",
      " 5   F       414 non-null    int64  \n",
      " 6   G       414 non-null    int64  \n",
      " 7   H       414 non-null    int64  \n",
      " 8   I       414 non-null    int64  \n",
      " 9   J       414 non-null    float64\n",
      " 10  K       414 non-null    int64  \n",
      " 11  L       414 non-null    int64  \n",
      " 12  M       414 non-null    int64  \n",
      " 13  N       414 non-null    int64  \n",
      "dtypes: float64(1), int64(13)\n",
      "memory usage: 45.4 KB\n"
     ]
    }
   ],
   "source": [
    "train.info()"
   ]
  },
  {
   "cell_type": "code",
   "execution_count": 8,
   "metadata": {},
   "outputs": [
    {
     "name": "stdout",
     "output_type": "stream",
     "text": [
      "A: [1 0]\n",
      "B: [47 37 48 52 56 38 41 43 45 34 53 44 22 49 33 25 40 20 18 54 21 30 46 35\n",
      " 51 39 27 28 50 69 36 31 42 23 55 24 32 60 29 26 58 62 57 59 67 64 68 66\n",
      " 63 70 73]\n",
      "C: [0 2 1 3 4 6 5]\n",
      "D: [2 0 3 1]\n",
      "E: [100  94  77  93  88  91  90  11   0  95  75   7  92  79  65  40  97  47\n",
      "  89  37  96  99  86  87  36  42   1  62  98  78  70  64  66  41  31]\n",
      "F: [27 30  7 13 25 19  9 23  6  3 20 11 35 24 14 22 15 17 12  5  8 31 26 21\n",
      " 18 16 28  0  4 64]\n",
      "G: [27 30  7 13 18 12  9 25 23  0 20 11 21  8 14 15  5  6 24 26 19 16 28 22\n",
      " 10  4 17 63]\n",
      "H: [72 81 18 36 69 54 24 71 66 78  9 31 97 52 53 63 57 51 33 39 44 35 12 21\n",
      " 59 37 45 70 90 55 15  0 42 34 87]\n",
      "I: [ 72  81  18  36  51  24  71  66  78   0  54  31  59  52  53  21  57  33\n",
      "  39  35  12  69  60  37  45  70  17  15  11  16  26  32  43  82  42  30\n",
      "  34  48 228  87]\n",
      "J: [3.48 4.16 3.67 1.67 3.24 3.33 3.25 4.   3.29 3.17 3.   3.5  2.31 2.96\n",
      " 3.42 3.45 3.6  3.07 0.   3.2  1.98 4.35 2.38 3.64 3.58 2.71 2.92 4.12\n",
      " 3.31 2.77 2.55 3.01 3.73 2.59 1.28 3.39 3.93 3.26 1.5  3.08 2.21 4.23\n",
      " 2.95 4.5  2.65 2.63 1.36 4.39 4.19 2.42 3.75 2.12 3.92 4.14 4.27 4.17\n",
      " 4.33 3.59 2.   3.13 3.57 3.71 1.17 4.42 2.67 3.83 3.12 3.04 3.88 2.5\n",
      " 2.17 4.25 4.08 2.35 3.85 3.18 3.69 3.44 1.31 3.54 4.4  3.84 4.11 2.81\n",
      " 3.65 2.54 4.04 3.46 3.35 3.38 3.06 3.63 3.55 1.26 2.2  3.79 2.36 3.02\n",
      " 3.3  4.1  1.21 3.98 2.97 2.14 3.15 1.04 2.88 0.2  2.46 3.14 3.1  0.63\n",
      " 3.82 3.43 3.61 0.4  3.21 2.58 3.34 2.34 1.91 3.68 0.69 1.23 1.58 1.41\n",
      " 2.33 2.13 4.02 3.19]\n",
      "K: [8 2 6 3 0 4 5 1 7]\n",
      "L: [8 2 5 0 3 1 4 6 7]\n",
      "M: [ 42  78  92  21   0   8  53  52  26  90  33  13  12  45   4   7 164   3\n",
      "  19 230   6  17 103  79  24  56  38  29   5  60  35  32 133  57   1  27\n",
      "  23 135 210  40  98 434 366  10 148  14 338   2  41  70  67  20  66 116\n",
      "  22 112 101  83 186  63 107 251   9  65  94  82  16 105  36  49  46  69\n",
      " 254 181  25  61  93  86  58  76  18 155  34  39  54 196  95  44  28 109\n",
      " 118 131 241  74 218  89  87  55 129  48  75  31]\n",
      "N: [1 0 2]\n"
     ]
    }
   ],
   "source": [
    "for label, content in train.items():\n",
    "    print(\"%s:\" % label, train[label].unique())"
   ]
  },
  {
   "cell_type": "code",
   "execution_count": 9,
   "metadata": {},
   "outputs": [
    {
     "data": {
      "text/plain": [
       "414"
      ]
     },
     "execution_count": 9,
     "metadata": {},
     "output_type": "execute_result"
    }
   ],
   "source": [
    "len(train)"
   ]
  },
  {
   "cell_type": "code",
   "execution_count": 10,
   "metadata": {},
   "outputs": [
    {
     "data": {
      "text/plain": [
       "N\n",
       "0     21\n",
       "1    318\n",
       "2     75\n",
       "dtype: int64"
      ]
     },
     "execution_count": 10,
     "metadata": {},
     "output_type": "execute_result"
    }
   ],
   "source": [
    "train.groupby(['N']).size()"
   ]
  },
  {
   "cell_type": "code",
   "execution_count": 11,
   "metadata": {
    "scrolled": false
   },
   "outputs": [
    {
     "data": {
      "image/png": "[encoded data removed]",
      "text/plain": [
       "<Figure size 720x3600 with 13 Axes>"
      ]
     },
     "metadata": {
      "needs_background": "light"
     },
     "output_type": "display_data"
    }
   ],
   "source": [
    "labels_list = ['A', 'B', 'C', 'D', 'E','F','G','H','I','J','K','L','M']\n",
    "\n",
    "fig, ax = plt.subplots(13, 1, figsize=(10, 50))\n",
    "\n",
    "r = 0\n",
    "for label in labels_list:\n",
    "    df1 = train.sort_values(\"N\")\n",
    "    sns.barplot(x=\"N\", y=label, data=df1, ax=ax[r])\n",
    "    ax[r].set_xlabel('', fontsize=16)\n",
    "    ax[r].set_ylabel('%ss' % label, fontsize=14)\n",
    "    ax[r].set_title(\"state vs %s\"% label, fontsize=20)\n",
    "    r += 1\n",
    "\n",
    "fig.tight_layout()\n",
    "plt.show()\n",
    "\n",
    "\n"
   ]
  },
  {
   "cell_type": "code",
   "execution_count": 12,
   "metadata": {},
   "outputs": [
    {
     "data": {
      "image/png": "[encoded data removed]",
      "text/plain": [
       "<Figure size 1080x1080 with 4 Axes>"
      ]
     },
     "metadata": {
      "needs_background": "light"
     },
     "output_type": "display_data"
    }
   ],
   "source": [
    "plt.figure(figsize= (15,15))\n",
    "plt.subplot(2,2,1)\n",
    "order_by = train.groupby('N')['A'].median().sort_values(ascending = False).index\n",
    "sns.boxplot(x = train['N'], y = train['A'],order = order_by)\n",
    "plt.xticks(rotation = 90)\n",
    "plt.title('state v/s gender')\n",
    "\n",
    "plt.subplot(2,2,2)\n",
    "order_by = train.groupby('N')['B'].median().sort_values(ascending = False).index\n",
    "sns.boxplot(x = train['N'], y = train['B'],order = order_by)\n",
    "plt.xticks(rotation = 90)\n",
    "plt.title('state v/s age')\n",
    "\n",
    "plt.subplot(2,2,3)\n",
    "order_by = train.groupby('N')['C'].median().sort_values(ascending = False).index\n",
    "sns.boxplot(x = train['N'], y = train['C'],order = order_by)\n",
    "plt.xticks(rotation = 90)\n",
    "plt.title('state v/s Leave of absence')\n",
    "\n",
    "plt.subplot(2,2,4)\n",
    "order_by = train.groupby('N')['E'].median().sort_values(ascending = False).index\n",
    "sns.boxplot(x = train['N'], y = train['E'],order = order_by)\n",
    "plt.xticks(rotation = 90)\n",
    "plt.title('state v/s attendanc')\n",
    "\n",
    "\n",
    "plt.show()"
   ]
  },
  {
   "cell_type": "code",
   "execution_count": 13,
   "metadata": {},
   "outputs": [],
   "source": [
    "y = train['N'].values\n",
    "x = train.drop(['N'], axis=1)\n",
    "x = x.values\n",
    "\n",
    "x = (x - x.min()) / (x.max() - x.min())"
   ]
  },
  {
   "cell_type": "code",
   "execution_count": 14,
   "metadata": {},
   "outputs": [
    {
     "name": "stdout",
     "output_type": "stream",
     "text": [
      "Class=1, n=318 (76.812%)\n",
      "Class=0, n=21 (5.072%)\n",
      "Class=2, n=75 (18.116%)\n"
     ]
    },
    {
     "data": {
      "image/png": "[encoded data removed]",
      "text/plain": [
       "<Figure size 432x288 with 1 Axes>"
      ]
     },
     "metadata": {
      "needs_background": "light"
     },
     "output_type": "display_data"
    }
   ],
   "source": [
    "def count_and_plot(y): \n",
    "    counter = Counter(y)\n",
    "    for k,v in counter.items():\n",
    "        print('Class=%d, n=%d (%.3f%%)' % (k, v, v / len(y) * 100))\n",
    "    pyplot.bar(counter.keys(), counter.values())\n",
    "    plt.xticks([0,1,2])\n",
    "    pyplot.show()\n",
    "    \n",
    "\n",
    "count_and_plot(y)"
   ]
  },
  {
   "cell_type": "code",
   "execution_count": 15,
   "metadata": {},
   "outputs": [
    {
     "name": "stdout",
     "output_type": "stream",
     "text": [
      "Class=0, n=21 (33.333%)\n",
      "Class=1, n=21 (33.333%)\n",
      "Class=2, n=21 (33.333%)\n"
     ]
    },
    {
     "data": {
      "image/png": "[encoded data removed]",
      "text/plain": [
       "<Figure size 432x288 with 1 Axes>"
      ]
     },
     "metadata": {
      "needs_background": "light"
     },
     "output_type": "display_data"
    }
   ],
   "source": [
    "from imblearn.under_sampling import RandomUnderSampler\n",
    "re_x, re_y = RandomUnderSampler(random_state=0).fit_resample(x, y)\n",
    "count_and_plot(re_y)"
   ]
  },
  {
   "cell_type": "code",
   "execution_count": 16,
   "metadata": {},
   "outputs": [],
   "source": [
    "from sklearn.model_selection import train_test_split\n",
    "import tensorflow as tf\n",
    "\n",
    "x_train , x_test , y_train , y_test = train_test_split(x, y,test_size=0.2,shuffle = True, random_state=42)\n",
    "y_train = tf.keras.utils.to_categorical(y_train, num_classes=3)\n",
    "y_test = tf.keras.utils.to_categorical(y_test, num_classes=3)"
   ]
  },
  {
   "cell_type": "code",
   "execution_count": 17,
   "metadata": {},
   "outputs": [
    {
     "name": "stdout",
     "output_type": "stream",
     "text": [
      "WARNING:tensorflow:From D:\\anaconda\\envs\\gpu\\lib\\site-packages\\tensorflow_core\\python\\ops\\resource_variable_ops.py:1630: calling BaseResourceVariable.__init__ (from tensorflow.python.ops.resource_variable_ops) with constraint is deprecated and will be removed in a future version.\n",
      "Instructions for updating:\n",
      "If using Keras pass *_constraint arguments to layers.\n"
     ]
    }
   ],
   "source": [
    "model = tf.keras.Sequential(\n",
    "    [tf.keras.layers.Dense(units=32, activation='relu', input_shape=x_train[0].shape),\n",
    "     tf.keras.layers.Dense(units=16, activation='relu'),\n",
    "     tf.keras.layers.Dense(units=8, activation='relu'),\n",
    "     tf.keras.layers.Dense(units=3, activation='softmax') ])"
   ]
  },
  {
   "cell_type": "code",
   "execution_count": 18,
   "metadata": {},
   "outputs": [
    {
     "name": "stdout",
     "output_type": "stream",
     "text": [
      "Model: \"sequential\"\n",
      "_________________________________________________________________\n",
      "Layer (type)                 Output Shape              Param #   \n",
      "=================================================================\n",
      "dense (Dense)                (None, 32)                448       \n",
      "_________________________________________________________________\n",
      "dense_1 (Dense)              (None, 16)                528       \n",
      "_________________________________________________________________\n",
      "dense_2 (Dense)              (None, 8)                 136       \n",
      "_________________________________________________________________\n",
      "dense_3 (Dense)              (None, 3)                 27        \n",
      "=================================================================\n",
      "Total params: 1,139\n",
      "Trainable params: 1,139\n",
      "Non-trainable params: 0\n",
      "_________________________________________________________________\n"
     ]
    }
   ],
   "source": [
    "model.compile(optimizer=tf.keras.optimizers.Adam(lr=0.001),\n",
    "              loss='categorical_crossentropy',\n",
    "              metrics=['accuracy'])\n",
    "model.summary()\n"
   ]
  },
  {
   "cell_type": "code",
   "execution_count": 19,
   "metadata": {
    "scrolled": false
   },
   "outputs": [
    {
     "name": "stdout",
     "output_type": "stream",
     "text": [
      "Train on 264 samples, validate on 67 samples\n",
      "Epoch 1/1000\n",
      "264/264 [==============================] - 0s 1ms/sample - loss: 1.0701 - acc: 0.6288 - val_loss: 1.0275 - val_acc: 0.7463\n",
      "Epoch 2/1000\n",
      "264/264 [==============================] - 0s 223us/sample - loss: 0.9859 - acc: 0.7500 - val_loss: 0.9520 - val_acc: 0.7463\n",
      "Epoch 3/1000\n",
      "264/264 [==============================] - 0s 212us/sample - loss: 0.8967 - acc: 0.7500 - val_loss: 0.8582 - val_acc: 0.7463\n",
      "Epoch 4/1000\n",
      "264/264 [==============================] - 0s 212us/sample - loss: 0.7936 - acc: 0.7500 - val_loss: 0.7591 - val_acc: 0.7463\n",
      "Epoch 5/1000\n",
      "264/264 [==============================] - 0s 212us/sample - loss: 0.6942 - acc: 0.7500 - val_loss: 0.6731 - val_acc: 0.7463\n",
      "Epoch 6/1000\n",
      "264/264 [==============================] - 0s 219us/sample - loss: 0.6179 - acc: 0.7500 - val_loss: 0.6151 - val_acc: 0.7463\n",
      "Epoch 7/1000\n",
      "264/264 [==============================] - 0s 196us/sample - loss: 0.5597 - acc: 0.7500 - val_loss: 0.5618 - val_acc: 0.7463\n",
      "Epoch 8/1000\n",
      "264/264 [==============================] - 0s 212us/sample - loss: 0.4974 - acc: 0.7500 - val_loss: 0.5045 - val_acc: 0.7463\n",
      "Epoch 9/1000\n",
      "264/264 [==============================] - 0s 196us/sample - loss: 0.4285 - acc: 0.7576 - val_loss: 0.4447 - val_acc: 0.7761\n",
      "Epoch 10/1000\n",
      "264/264 [==============================] - 0s 196us/sample - loss: 0.3546 - acc: 0.8674 - val_loss: 0.3999 - val_acc: 0.8806\n",
      "Epoch 11/1000\n",
      "264/264 [==============================] - 0s 189us/sample - loss: 0.2971 - acc: 0.9280 - val_loss: 0.3713 - val_acc: 0.8806\n",
      "Epoch 12/1000\n",
      "264/264 [==============================] - 0s 193us/sample - loss: 0.2565 - acc: 0.9280 - val_loss: 0.3561 - val_acc: 0.8806\n",
      "Epoch 13/1000\n",
      "264/264 [==============================] - 0s 200us/sample - loss: 0.2349 - acc: 0.9280 - val_loss: 0.3544 - val_acc: 0.8806\n",
      "Epoch 14/1000\n",
      "264/264 [==============================] - 0s 208us/sample - loss: 0.2232 - acc: 0.9318 - val_loss: 0.3544 - val_acc: 0.8806\n",
      "Epoch 15/1000\n",
      "264/264 [==============================] - 0s 196us/sample - loss: 0.2170 - acc: 0.9280 - val_loss: 0.3522 - val_acc: 0.8806\n",
      "Epoch 16/1000\n",
      "264/264 [==============================] - 0s 196us/sample - loss: 0.2127 - acc: 0.9318 - val_loss: 0.3568 - val_acc: 0.8806\n",
      "Epoch 17/1000\n",
      "264/264 [==============================] - 0s 196us/sample - loss: 0.2084 - acc: 0.9318 - val_loss: 0.3525 - val_acc: 0.8806\n",
      "Epoch 18/1000\n",
      "264/264 [==============================] - 0s 196us/sample - loss: 0.2060 - acc: 0.9280 - val_loss: 0.3543 - val_acc: 0.8806\n",
      "Epoch 19/1000\n",
      "264/264 [==============================] - 0s 204us/sample - loss: 0.2051 - acc: 0.9280 - val_loss: 0.3523 - val_acc: 0.8806\n",
      "Epoch 20/1000\n",
      "264/264 [==============================] - 0s 196us/sample - loss: 0.2026 - acc: 0.9280 - val_loss: 0.3558 - val_acc: 0.8806\n",
      "Epoch 21/1000\n",
      "264/264 [==============================] - 0s 200us/sample - loss: 0.2003 - acc: 0.9280 - val_loss: 0.3551 - val_acc: 0.8806\n",
      "Epoch 22/1000\n",
      "264/264 [==============================] - 0s 193us/sample - loss: 0.1995 - acc: 0.9280 - val_loss: 0.3560 - val_acc: 0.8806\n",
      "Epoch 23/1000\n",
      "264/264 [==============================] - 0s 193us/sample - loss: 0.2007 - acc: 0.9280 - val_loss: 0.3500 - val_acc: 0.8806\n",
      "Epoch 24/1000\n",
      "264/264 [==============================] - 0s 208us/sample - loss: 0.1997 - acc: 0.9280 - val_loss: 0.3534 - val_acc: 0.8806\n",
      "Epoch 25/1000\n",
      "264/264 [==============================] - 0s 204us/sample - loss: 0.1983 - acc: 0.9280 - val_loss: 0.3452 - val_acc: 0.8806\n",
      "Epoch 26/1000\n",
      "264/264 [==============================] - 0s 208us/sample - loss: 0.1961 - acc: 0.9280 - val_loss: 0.3658 - val_acc: 0.8806\n",
      "Epoch 27/1000\n",
      "264/264 [==============================] - 0s 204us/sample - loss: 0.1954 - acc: 0.9280 - val_loss: 0.3534 - val_acc: 0.8806\n",
      "Epoch 28/1000\n",
      "264/264 [==============================] - 0s 200us/sample - loss: 0.1953 - acc: 0.9280 - val_loss: 0.3580 - val_acc: 0.8806\n",
      "Epoch 29/1000\n",
      "264/264 [==============================] - 0s 208us/sample - loss: 0.1935 - acc: 0.9280 - val_loss: 0.3440 - val_acc: 0.8806\n",
      "Epoch 30/1000\n",
      "264/264 [==============================] - 0s 204us/sample - loss: 0.1948 - acc: 0.9280 - val_loss: 0.3603 - val_acc: 0.8806\n",
      "Epoch 31/1000\n",
      "264/264 [==============================] - 0s 200us/sample - loss: 0.1955 - acc: 0.9280 - val_loss: 0.3443 - val_acc: 0.8806\n",
      "Epoch 32/1000\n",
      "264/264 [==============================] - 0s 204us/sample - loss: 0.1942 - acc: 0.9280 - val_loss: 0.3553 - val_acc: 0.8806\n",
      "Epoch 33/1000\n",
      "264/264 [==============================] - 0s 204us/sample - loss: 0.1913 - acc: 0.9280 - val_loss: 0.3433 - val_acc: 0.8806\n",
      "Epoch 34/1000\n",
      "264/264 [==============================] - 0s 204us/sample - loss: 0.1920 - acc: 0.9280 - val_loss: 0.3525 - val_acc: 0.8806\n",
      "Epoch 35/1000\n",
      "264/264 [==============================] - 0s 208us/sample - loss: 0.1919 - acc: 0.9280 - val_loss: 0.3455 - val_acc: 0.8806\n",
      "Epoch 36/1000\n",
      "264/264 [==============================] - 0s 200us/sample - loss: 0.1904 - acc: 0.9280 - val_loss: 0.3380 - val_acc: 0.8806\n",
      "Epoch 37/1000\n",
      "264/264 [==============================] - 0s 204us/sample - loss: 0.1904 - acc: 0.9280 - val_loss: 0.3549 - val_acc: 0.8806\n",
      "Epoch 38/1000\n",
      "264/264 [==============================] - 0s 204us/sample - loss: 0.1916 - acc: 0.9280 - val_loss: 0.3429 - val_acc: 0.8806\n",
      "Epoch 39/1000\n",
      "264/264 [==============================] - 0s 204us/sample - loss: 0.1896 - acc: 0.9280 - val_loss: 0.3455 - val_acc: 0.8806\n",
      "Epoch 40/1000\n",
      "264/264 [==============================] - 0s 208us/sample - loss: 0.1921 - acc: 0.9280 - val_loss: 0.3535 - val_acc: 0.8806\n",
      "Epoch 41/1000\n",
      "264/264 [==============================] - 0s 200us/sample - loss: 0.1904 - acc: 0.9280 - val_loss: 0.3313 - val_acc: 0.8806\n",
      "Epoch 42/1000\n",
      "264/264 [==============================] - 0s 196us/sample - loss: 0.1900 - acc: 0.9280 - val_loss: 0.3401 - val_acc: 0.8806\n",
      "Epoch 43/1000\n",
      "264/264 [==============================] - 0s 193us/sample - loss: 0.1885 - acc: 0.9280 - val_loss: 0.3382 - val_acc: 0.8806\n",
      "Epoch 44/1000\n",
      "264/264 [==============================] - 0s 204us/sample - loss: 0.1894 - acc: 0.9280 - val_loss: 0.3359 - val_acc: 0.8806\n",
      "Epoch 45/1000\n",
      "264/264 [==============================] - 0s 196us/sample - loss: 0.1878 - acc: 0.9280 - val_loss: 0.3422 - val_acc: 0.8806\n",
      "Epoch 46/1000\n",
      "264/264 [==============================] - 0s 193us/sample - loss: 0.1890 - acc: 0.9280 - val_loss: 0.3365 - val_acc: 0.8806\n",
      "Epoch 47/1000\n",
      "264/264 [==============================] - 0s 193us/sample - loss: 0.1893 - acc: 0.9280 - val_loss: 0.3340 - val_acc: 0.8806\n",
      "Epoch 48/1000\n",
      "264/264 [==============================] - 0s 193us/sample - loss: 0.1872 - acc: 0.9280 - val_loss: 0.3446 - val_acc: 0.8806\n",
      "Epoch 49/1000\n",
      "264/264 [==============================] - 0s 204us/sample - loss: 0.1867 - acc: 0.9280 - val_loss: 0.3318 - val_acc: 0.8806\n",
      "Epoch 50/1000\n",
      "264/264 [==============================] - 0s 212us/sample - loss: 0.1894 - acc: 0.9280 - val_loss: 0.3457 - val_acc: 0.8806\n",
      "Epoch 51/1000\n",
      "264/264 [==============================] - 0s 196us/sample - loss: 0.1878 - acc: 0.9280 - val_loss: 0.3374 - val_acc: 0.8806\n"
     ]
    }
   ],
   "source": [
    "history = model.fit(x_train,\n",
    "                    y_train,\n",
    "                    epochs=1000,\n",
    "                    batch_size=10,\n",
    "                    validation_split=0.2,\n",
    "                    callbacks=[tf.keras.callbacks.EarlyStopping(patience=10, monitor='val_loss')])"
   ]
  },
  {
   "cell_type": "code",
   "execution_count": 20,
   "metadata": {},
   "outputs": [],
   "source": [
    "#Save Model\n",
    "model.save('D:/deep-learning/model/noh.h5')\n",
    "model.save_weights('D:/deep-learning/model/noh.h5')\n"
   ]
  },
  {
   "cell_type": "code",
   "execution_count": 21,
   "metadata": {},
   "outputs": [
    {
     "data": {
      "image/png": "[encoded data removed]",
      "text/plain": [
       "<Figure size 864x288 with 2 Axes>"
      ]
     },
     "metadata": {
      "needs_background": "light"
     },
     "output_type": "display_data"
    }
   ],
   "source": [
    "plt.figure(figsize=(12,4))\n",
    "\n",
    "plt.subplot(1, 2, 1)\n",
    "plt.plot(history.history['acc'], 'b-', label='accuracy')\n",
    "plt.plot(history.history['val_acc'], 'r--', label='val_accuracy')\n",
    "plt.xlabel('Epoch')\n",
    "plt.legend()\n",
    "\n",
    "plt.subplot(1, 2, 2)\n",
    "plt.plot(history.history['loss'], 'b-', label='loss')\n",
    "plt.plot(history.history['val_loss'], 'r--', label='val_loss')\n",
    "plt.xlabel('Epoch')\n",
    "plt.legend()\n",
    "\n",
    "#plt.ylim(0, 1)\n",
    "plt.legend()\n",
    "\n",
    "plt.show()"
   ]
  },
  {
   "cell_type": "code",
   "execution_count": 22,
   "metadata": {},
   "outputs": [
    {
     "name": "stdout",
     "output_type": "stream",
     "text": [
      "83/83 [==============================] - 0s 72us/sample - loss: 0.2671 - acc: 0.9036\n"
     ]
    },
    {
     "data": {
      "text/plain": [
       "[0.2671354219137904, 0.90361446]"
      ]
     },
     "execution_count": 22,
     "metadata": {},
     "output_type": "execute_result"
    }
   ],
   "source": [
    "model.evaluate(x_test, y_test)"
   ]
  },
  {
   "cell_type": "code",
   "execution_count": 26,
   "metadata": {},
   "outputs": [
    {
     "name": "stdout",
     "output_type": "stream",
     "text": [
      "[[0.00230415 0.12672811 0.         0.00230415 0.21428571 0.05990783\n",
      "  0.05990783 0.16589862 0.16589862 0.0059447  0.01152074 0.00921659\n",
      "  0.11059908]\n",
      " [0.         0.11981567 0.00460829 0.00691244 0.         0.03225806\n",
      "  0.02995392 0.         0.09677419 0.00158986 0.         0.\n",
      "  0.        ]\n",
      " [0.00230415 0.09447005 0.         0.00230415 0.21658986 0.03225806\n",
      "  0.03225806 0.08986175 0.08986175 0.00778802 0.00460829 0.00460829\n",
      "  0.07603687]\n",
      " [0.00230415 0.11290323 0.         0.00230415 0.20967742 0.05760369\n",
      "  0.05760369 0.16589862 0.16589862 0.00788018 0.00691244 0.00691244\n",
      "  0.06682028]\n",
      " [0.00230415 0.10599078 0.         0.00230415 0.23041475 0.02995392\n",
      "  0.02995392 0.08294931 0.08294931 0.00691244 0.00921659 0.00460829\n",
      "  0.        ]\n",
      " [0.00230415 0.11059908 0.         0.         0.23041475 0.04608295\n",
      "  0.04608295 0.12442396 0.12442396 0.00737327 0.01152074 0.00921659\n",
      "  0.02304147]\n",
      " [0.00230415 0.10599078 0.00230415 0.00691244 0.         0.01612903\n",
      "  0.01612903 0.04147465 0.04147465 0.00903226 0.         0.\n",
      "  0.        ]\n",
      " [0.00230415 0.05299539 0.         0.         0.20506912 0.02995392\n",
      "  0.02995392 0.08294931 0.08294931 0.00730415 0.00921659 0.00460829\n",
      "  0.00691244]\n",
      " [0.00230415 0.07142857 0.         0.         0.23041475 0.02995392\n",
      "  0.02995392 0.08294931 0.08294931 0.01036866 0.00460829 0.00460829\n",
      "  0.05069124]\n",
      " [0.00230415 0.10829493 0.         0.         0.23041475 0.06221198\n",
      "  0.06221198 0.16589862 0.16589862 0.00610599 0.01152074 0.\n",
      "  0.        ]]\n"
     ]
    }
   ],
   "source": [
    "print(x_test[0:10])"
   ]
  },
  {
   "cell_type": "code",
   "execution_count": 27,
   "metadata": {},
   "outputs": [
    {
     "name": "stdout",
     "output_type": "stream",
     "text": [
      "[[0. 1. 0.]\n",
      " [0. 0. 1.]\n",
      " [0. 1. 0.]\n",
      " [0. 1. 0.]\n",
      " [0. 1. 0.]\n",
      " [0. 1. 0.]\n",
      " [1. 0. 0.]\n",
      " [0. 1. 0.]\n",
      " [0. 1. 0.]\n",
      " [0. 1. 0.]]\n"
     ]
    }
   ],
   "source": [
    "print(y_test[0:10])"
   ]
  },
  {
   "cell_type": "code",
   "execution_count": 28,
   "metadata": {},
   "outputs": [
    {
     "name": "stdout",
     "output_type": "stream",
     "text": [
      "[[3.4094229e-04 9.9957985e-01 7.9207828e-05]\n",
      " [1.5675111e-01 2.3694517e-02 8.1955439e-01]\n",
      " [1.2833161e-03 9.9832493e-01 3.9178960e-04]\n",
      " [6.9046591e-04 9.9912399e-01 1.8550988e-04]\n",
      " [2.5126413e-03 9.9660623e-01 8.8121364e-04]\n",
      " [1.1059296e-03 9.9856657e-01 3.2743387e-04]\n",
      " [1.9364673e-01 5.3269342e-02 7.5308394e-01]\n",
      " [3.5851609e-03 9.9506170e-01 1.3531010e-03]\n",
      " [1.4584474e-03 9.9808443e-01 4.5716204e-04]\n",
      " [1.0433131e-03 9.9865156e-01 3.0515308e-04]]\n"
     ]
    }
   ],
   "source": [
    "print(model.predict(x_test[0:10]))"
   ]
  },
  {
   "cell_type": "code",
   "execution_count": null,
   "metadata": {},
   "outputs": [],
   "source": []
  }
 ],
 "metadata": {
  "kernelspec": {
   "display_name": "Python 3",
   "language": "python",
   "name": "python3"
  },
  "language_info": {
   "codemirror_mode": {
    "name": "ipython",
    "version": 3
   },
   "file_extension": ".py",
   "mimetype": "text/x-python",
   "name": "python",
   "nbconvert_exporter": "python",
   "pygments_lexer": "ipython3",
   "version": "3.6.9"
  }
 },
 "nbformat": 4,
 "nbformat_minor": 4
}
