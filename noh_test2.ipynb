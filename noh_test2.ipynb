{
 "cells": [
  {
   "cell_type": "code",
   "execution_count": 1,
   "metadata": {},
   "outputs": [
    {
     "data": {
      "text/html": [
       "<div>\n",
       "<style scoped>\n",
       "    .dataframe tbody tr th:only-of-type {\n",
       "        vertical-align: middle;\n",
       "    }\n",
       "\n",
       "    .dataframe tbody tr th {\n",
       "        vertical-align: top;\n",
       "    }\n",
       "\n",
       "    .dataframe thead th {\n",
       "        text-align: right;\n",
       "    }\n",
       "</style>\n",
       "<table border=\"1\" class=\"dataframe\">\n",
       "  <thead>\n",
       "    <tr style=\"text-align: right;\">\n",
       "      <th></th>\n",
       "      <th>A</th>\n",
       "      <th>B</th>\n",
       "      <th>C</th>\n",
       "      <th>D</th>\n",
       "      <th>E</th>\n",
       "      <th>F</th>\n",
       "      <th>G</th>\n",
       "      <th>H</th>\n",
       "      <th>I</th>\n",
       "      <th>J</th>\n",
       "      <th>K</th>\n",
       "      <th>L</th>\n",
       "      <th>M</th>\n",
       "    </tr>\n",
       "  </thead>\n",
       "  <tbody>\n",
       "    <tr>\n",
       "      <th>0</th>\n",
       "      <td>F</td>\n",
       "      <td>43</td>\n",
       "      <td>0</td>\n",
       "      <td>6</td>\n",
       "      <td>6</td>\n",
       "      <td>15</td>\n",
       "      <td>15</td>\n",
       "      <td>2.20</td>\n",
       "      <td>0</td>\n",
       "      <td>0</td>\n",
       "      <td>0</td>\n",
       "      <td>0</td>\n",
       "      <td>0</td>\n",
       "    </tr>\n",
       "    <tr>\n",
       "      <th>1</th>\n",
       "      <td>F</td>\n",
       "      <td>47</td>\n",
       "      <td>0</td>\n",
       "      <td>14</td>\n",
       "      <td>7</td>\n",
       "      <td>33</td>\n",
       "      <td>17</td>\n",
       "      <td>1.26</td>\n",
       "      <td>0</td>\n",
       "      <td>0</td>\n",
       "      <td>0</td>\n",
       "      <td>0</td>\n",
       "      <td>0</td>\n",
       "    </tr>\n",
       "    <tr>\n",
       "      <th>2</th>\n",
       "      <td>F</td>\n",
       "      <td>29</td>\n",
       "      <td>0</td>\n",
       "      <td>7</td>\n",
       "      <td>7</td>\n",
       "      <td>18</td>\n",
       "      <td>18</td>\n",
       "      <td>1.67</td>\n",
       "      <td>0</td>\n",
       "      <td>0</td>\n",
       "      <td>0</td>\n",
       "      <td>0</td>\n",
       "      <td>0</td>\n",
       "    </tr>\n",
       "    <tr>\n",
       "      <th>3</th>\n",
       "      <td>F</td>\n",
       "      <td>60</td>\n",
       "      <td>0</td>\n",
       "      <td>7</td>\n",
       "      <td>7</td>\n",
       "      <td>18</td>\n",
       "      <td>18</td>\n",
       "      <td>3.00</td>\n",
       "      <td>0</td>\n",
       "      <td>0</td>\n",
       "      <td>0</td>\n",
       "      <td>0</td>\n",
       "      <td>0</td>\n",
       "    </tr>\n",
       "    <tr>\n",
       "      <th>4</th>\n",
       "      <td>F</td>\n",
       "      <td>55</td>\n",
       "      <td>0</td>\n",
       "      <td>7</td>\n",
       "      <td>0</td>\n",
       "      <td>18</td>\n",
       "      <td>0</td>\n",
       "      <td>0.00</td>\n",
       "      <td>0</td>\n",
       "      <td>0</td>\n",
       "      <td>0</td>\n",
       "      <td>0</td>\n",
       "      <td>0</td>\n",
       "    </tr>\n",
       "  </tbody>\n",
       "</table>\n",
       "</div>"
      ],
      "text/plain": [
       "   A   B  C   D  E   F   G     H  I  J  K  L  M\n",
       "0  F  43  0   6  6  15  15  2.20  0  0  0  0  0\n",
       "1  F  47  0  14  7  33  17  1.26  0  0  0  0  0\n",
       "2  F  29  0   7  7  18  18  1.67  0  0  0  0  0\n",
       "3  F  60  0   7  7  18  18  3.00  0  0  0  0  0\n",
       "4  F  55  0   7  0  18   0  0.00  0  0  0  0  0"
      ]
     },
     "execution_count": 1,
     "metadata": {},
     "output_type": "execute_result"
    }
   ],
   "source": [
    "import numpy as np \n",
    "import pandas as pd \n",
    "import matplotlib.pyplot as plt\n",
    "from matplotlib import pyplot\n",
    "import os\n",
    "from collections import Counter\n",
    "import seaborn as sns\n",
    "\n",
    "train = pd.read_csv('./input/dddd.csv')\n",
    "train.head()"
   ]
  },
  {
   "cell_type": "code",
   "execution_count": 2,
   "metadata": {},
   "outputs": [
    {
     "name": "stdout",
     "output_type": "stream",
     "text": [
      "<class 'pandas.core.frame.DataFrame'>\n",
      "RangeIndex: 1242 entries, 0 to 1241\n",
      "Data columns (total 13 columns):\n",
      " #   Column  Non-Null Count  Dtype  \n",
      "---  ------  --------------  -----  \n",
      " 0   A       1242 non-null   object \n",
      " 1   B       1242 non-null   int64  \n",
      " 2   C       1242 non-null   int64  \n",
      " 3   D       1242 non-null   int64  \n",
      " 4   E       1242 non-null   int64  \n",
      " 5   F       1242 non-null   int64  \n",
      " 6   G       1242 non-null   int64  \n",
      " 7   H       1242 non-null   float64\n",
      " 8   I       1242 non-null   int64  \n",
      " 9   J       1242 non-null   int64  \n",
      " 10  K       1242 non-null   int64  \n",
      " 11  L       1242 non-null   int64  \n",
      " 12  M       1242 non-null   int64  \n",
      "dtypes: float64(1), int64(11), object(1)\n",
      "memory usage: 126.3+ KB\n"
     ]
    }
   ],
   "source": [
    "train.info()"
   ]
  },
  {
   "cell_type": "code",
   "execution_count": 3,
   "metadata": {},
   "outputs": [
    {
     "data": {
      "text/html": [
       "<div>\n",
       "<style scoped>\n",
       "    .dataframe tbody tr th:only-of-type {\n",
       "        vertical-align: middle;\n",
       "    }\n",
       "\n",
       "    .dataframe tbody tr th {\n",
       "        vertical-align: top;\n",
       "    }\n",
       "\n",
       "    .dataframe thead th {\n",
       "        text-align: right;\n",
       "    }\n",
       "</style>\n",
       "<table border=\"1\" class=\"dataframe\">\n",
       "  <thead>\n",
       "    <tr style=\"text-align: right;\">\n",
       "      <th></th>\n",
       "      <th>B</th>\n",
       "      <th>C</th>\n",
       "      <th>D</th>\n",
       "      <th>E</th>\n",
       "      <th>F</th>\n",
       "      <th>G</th>\n",
       "      <th>H</th>\n",
       "      <th>I</th>\n",
       "      <th>J</th>\n",
       "      <th>K</th>\n",
       "      <th>L</th>\n",
       "      <th>M</th>\n",
       "    </tr>\n",
       "  </thead>\n",
       "  <tbody>\n",
       "    <tr>\n",
       "      <th>count</th>\n",
       "      <td>1242.000000</td>\n",
       "      <td>1242.000000</td>\n",
       "      <td>1242.000000</td>\n",
       "      <td>1242.000000</td>\n",
       "      <td>1242.000000</td>\n",
       "      <td>1242.000000</td>\n",
       "      <td>1242.000000</td>\n",
       "      <td>1242.000000</td>\n",
       "      <td>1242.000000</td>\n",
       "      <td>1242.000000</td>\n",
       "      <td>1242.000000</td>\n",
       "      <td>1242.000000</td>\n",
       "    </tr>\n",
       "    <tr>\n",
       "      <th>mean</th>\n",
       "      <td>43.557971</td>\n",
       "      <td>3.556361</td>\n",
       "      <td>18.523349</td>\n",
       "      <td>18.066023</td>\n",
       "      <td>50.523349</td>\n",
       "      <td>50.312399</td>\n",
       "      <td>2.951103</td>\n",
       "      <td>1.998390</td>\n",
       "      <td>2.099034</td>\n",
       "      <td>1.165862</td>\n",
       "      <td>25.082931</td>\n",
       "      <td>1.048309</td>\n",
       "    </tr>\n",
       "    <tr>\n",
       "      <th>std</th>\n",
       "      <td>10.343898</td>\n",
       "      <td>2.237429</td>\n",
       "      <td>11.801672</td>\n",
       "      <td>11.700485</td>\n",
       "      <td>33.623931</td>\n",
       "      <td>33.543564</td>\n",
       "      <td>1.110437</td>\n",
       "      <td>1.068936</td>\n",
       "      <td>2.022201</td>\n",
       "      <td>1.591636</td>\n",
       "      <td>50.122272</td>\n",
       "      <td>0.588023</td>\n",
       "    </tr>\n",
       "    <tr>\n",
       "      <th>min</th>\n",
       "      <td>18.000000</td>\n",
       "      <td>0.000000</td>\n",
       "      <td>0.000000</td>\n",
       "      <td>0.000000</td>\n",
       "      <td>0.000000</td>\n",
       "      <td>0.000000</td>\n",
       "      <td>0.000000</td>\n",
       "      <td>0.000000</td>\n",
       "      <td>0.000000</td>\n",
       "      <td>0.000000</td>\n",
       "      <td>0.000000</td>\n",
       "      <td>0.000000</td>\n",
       "    </tr>\n",
       "    <tr>\n",
       "      <th>25%</th>\n",
       "      <td>37.000000</td>\n",
       "      <td>1.000000</td>\n",
       "      <td>9.000000</td>\n",
       "      <td>9.000000</td>\n",
       "      <td>23.250000</td>\n",
       "      <td>24.000000</td>\n",
       "      <td>2.500000</td>\n",
       "      <td>1.000000</td>\n",
       "      <td>0.000000</td>\n",
       "      <td>0.000000</td>\n",
       "      <td>0.000000</td>\n",
       "      <td>1.000000</td>\n",
       "    </tr>\n",
       "    <tr>\n",
       "      <th>50%</th>\n",
       "      <td>45.000000</td>\n",
       "      <td>4.000000</td>\n",
       "      <td>14.000000</td>\n",
       "      <td>14.000000</td>\n",
       "      <td>39.000000</td>\n",
       "      <td>39.000000</td>\n",
       "      <td>3.210000</td>\n",
       "      <td>2.000000</td>\n",
       "      <td>2.000000</td>\n",
       "      <td>0.000000</td>\n",
       "      <td>3.000000</td>\n",
       "      <td>1.000000</td>\n",
       "    </tr>\n",
       "    <tr>\n",
       "      <th>75%</th>\n",
       "      <td>51.000000</td>\n",
       "      <td>5.000000</td>\n",
       "      <td>25.000000</td>\n",
       "      <td>25.000000</td>\n",
       "      <td>72.000000</td>\n",
       "      <td>72.000000</td>\n",
       "      <td>3.690000</td>\n",
       "      <td>3.000000</td>\n",
       "      <td>4.000000</td>\n",
       "      <td>2.000000</td>\n",
       "      <td>30.750000</td>\n",
       "      <td>1.000000</td>\n",
       "    </tr>\n",
       "    <tr>\n",
       "      <th>max</th>\n",
       "      <td>73.000000</td>\n",
       "      <td>7.000000</td>\n",
       "      <td>64.000000</td>\n",
       "      <td>63.000000</td>\n",
       "      <td>165.000000</td>\n",
       "      <td>228.000000</td>\n",
       "      <td>4.500000</td>\n",
       "      <td>4.000000</td>\n",
       "      <td>9.000000</td>\n",
       "      <td>8.000000</td>\n",
       "      <td>440.000000</td>\n",
       "      <td>3.000000</td>\n",
       "    </tr>\n",
       "  </tbody>\n",
       "</table>\n",
       "</div>"
      ],
      "text/plain": [
       "                 B            C            D            E            F  \\\n",
       "count  1242.000000  1242.000000  1242.000000  1242.000000  1242.000000   \n",
       "mean     43.557971     3.556361    18.523349    18.066023    50.523349   \n",
       "std      10.343898     2.237429    11.801672    11.700485    33.623931   \n",
       "min      18.000000     0.000000     0.000000     0.000000     0.000000   \n",
       "25%      37.000000     1.000000     9.000000     9.000000    23.250000   \n",
       "50%      45.000000     4.000000    14.000000    14.000000    39.000000   \n",
       "75%      51.000000     5.000000    25.000000    25.000000    72.000000   \n",
       "max      73.000000     7.000000    64.000000    63.000000   165.000000   \n",
       "\n",
       "                 G            H            I            J            K  \\\n",
       "count  1242.000000  1242.000000  1242.000000  1242.000000  1242.000000   \n",
       "mean     50.312399     2.951103     1.998390     2.099034     1.165862   \n",
       "std      33.543564     1.110437     1.068936     2.022201     1.591636   \n",
       "min       0.000000     0.000000     0.000000     0.000000     0.000000   \n",
       "25%      24.000000     2.500000     1.000000     0.000000     0.000000   \n",
       "50%      39.000000     3.210000     2.000000     2.000000     0.000000   \n",
       "75%      72.000000     3.690000     3.000000     4.000000     2.000000   \n",
       "max     228.000000     4.500000     4.000000     9.000000     8.000000   \n",
       "\n",
       "                 L            M  \n",
       "count  1242.000000  1242.000000  \n",
       "mean     25.082931     1.048309  \n",
       "std      50.122272     0.588023  \n",
       "min       0.000000     0.000000  \n",
       "25%       0.000000     1.000000  \n",
       "50%       3.000000     1.000000  \n",
       "75%      30.750000     1.000000  \n",
       "max     440.000000     3.000000  "
      ]
     },
     "execution_count": 3,
     "metadata": {},
     "output_type": "execute_result"
    }
   ],
   "source": [
    "train.describe()"
   ]
  },
  {
   "cell_type": "code",
   "execution_count": 4,
   "metadata": {},
   "outputs": [
    {
     "name": "stdout",
     "output_type": "stream",
     "text": [
      "A: ['F' 'M']\n",
      "B: [43 47 29 60 55 24 49 30 26 40 45 33 50 44 25 62 58 39 38 56 51 54 42 32\n",
      " 36 52 63 66 68 59 64 73 70 67 41 53 48 46 57 21 35 31 27 28 61 37 18 20\n",
      " 22 34 23 69 65 71]\n",
      "C: [0 5 3 4 7 6 2 1]\n",
      "D: [ 6 14  7 13 12 28  4 32 16 17 23  0 27 15  9 21 64  5 11 26 38 52  3 25\n",
      " 10 19 18 20 44 22 24 31  8 29 30 34 33 39 49 46 42 45 47 37 40 41 48 51\n",
      " 53 50 36 55 35 43 58 59 57 56]\n",
      "E: [ 6  7  0 13 27  4 32 16 17 19 12 14 10 20  5 63 15 22 11  8  9 18 38 52\n",
      " 43 26 24 25 23 28 21 29 31 30 34 33 39 49 46 42 47 37 40 45 44 41 51 53\n",
      " 50 48 55 35 56 57  3]\n",
      "F: [ 15  33  18  36  27  71   9  88  45  48  66   0  39  31  16  30  17  67\n",
      " 107 141  72  54  51  57  50 123  63  52  81  53  55  69  90  70  21  78\n",
      "  34  41  35  37  68  75  80  76  12  94  92 138 129 115 130 108 105 122\n",
      " 117 116 111 120 112  99 103 131 149 140 128  73  62  74  42  84  82 158\n",
      "  60  98  87  97  24  59  10  23  32  28  43  86  77 118 126  64 160 144\n",
      " 100  93 165  91 159  49  44  26  56  96  85 114  95 113 109 106 110 104\n",
      " 125 124 119 134 132 150 143  83 147]\n",
      "G: [ 15  17  18   0  36  14  71   9  88  45  48  54  16  11  33  42  21  51\n",
      "  81  12  30  60  39  82 228  43  66  32  24  26  49 107 141  57  50 123\n",
      "  52  72  53  69  70  78  34  41  31  35  37  27  68  55  75  80  76  94\n",
      "  90  92 138 129 115 130 108 105 122 117 116 111 120 112  99 103 131 149\n",
      " 140 128  87  62  74  84 158  65  98  67  59  23  28  63  40  86  77 118\n",
      " 124  64 160 144 100  93 165  73 159  10  56  96  85 114  95 113 109 106\n",
      " 110 104 125 119 134 132 150 143 147]\n",
      "H: [2.2  1.26 1.67 3.   0.   2.21 2.39 2.24 3.5  1.21 2.17 2.57 2.33 2.9\n",
      " 1.75 3.58 2.72 0.4  1.58 1.23 0.69 4.04 3.61 3.93 3.43 3.64 3.68 3.82\n",
      " 3.79 1.91 0.63 3.45 3.1  3.21 3.29 3.14 3.38 3.6  2.46 0.2  2.88 1.04\n",
      " 3.15 2.14 3.44 2.34 2.97 3.34 3.98 2.5  4.25 4.1  1.5  4.   3.3  3.02\n",
      " 2.36 2.67 1.9  2.4  1.7  2.62 1.42 1.83 4.17 1.19 3.92 2.43 2.98 3.17\n",
      " 1.57 0.83 3.65 2.08 1.25 3.33 1.79 1.   3.76 1.13 1.59 2.15 3.39 3.01\n",
      " 2.92 2.38 3.2  4.5  2.58 4.23 4.19 2.13 3.25 3.71 4.33 3.13 2.   3.42\n",
      " 4.14 3.55 3.63 3.46 1.98 2.81 4.42 4.4  3.54 3.48 3.18 2.35 3.26 2.12\n",
      " 1.41 3.24 4.22 3.06 3.47 1.97 1.17 3.95 4.46 4.37 2.8  3.07 2.16 4.2\n",
      " 2.56 3.49 3.91 2.76 2.66 4.43 2.91 3.59 4.38 2.7  3.67 2.75 3.83 4.08\n",
      " 1.33 3.19 3.08 3.04 2.25 3.69 2.95 3.35 4.13 1.29 2.29 4.09 3.84 3.97\n",
      " 4.06 3.8  2.69 2.55 3.05 2.85 3.77 4.11 3.09 4.44 3.81 3.94 3.27 2.32\n",
      " 3.23 2.96 4.21 4.18 3.99 3.28 2.06 2.44 4.07 3.96 4.36 2.02 4.02 4.03\n",
      " 4.31 1.69 4.05 2.71 3.85 4.26 3.78 3.74 2.77 1.03 1.94 4.28 2.1  2.26\n",
      " 1.54 1.92 2.61 2.59 3.31 4.12 4.35 2.65 4.27 3.75 2.42 1.36 2.63 3.88\n",
      " 2.37 3.66 3.56 3.4  2.83 0.97 0.98 2.89 2.52 4.01 3.57 1.65 4.16 2.93\n",
      " 0.73 3.52 3.73 2.86 3.9  1.88 2.79 3.32 3.16 3.87 4.34 3.53 3.37 1.85\n",
      " 1.96 1.4  2.87 2.03 2.31 0.17 3.72 2.41 1.6  1.63 2.54 3.12 1.28 4.39\n",
      " 1.31 2.84 3.36 4.29 3.62 4.3  2.99 3.22 2.74 3.03 0.75 0.42 2.19 2.68\n",
      " 0.96 2.04 2.94 3.51 0.93 3.86 2.73 3.41 2.78 4.47 0.58 0.52 4.24 1.76\n",
      " 2.53 1.87 1.95 1.08 4.15 3.89 1.45]\n",
      "I: [0 1 2 3 4]\n",
      "J: [0 2 6 1 5 4 3 7 9 8]\n",
      "K: [0 4 1 2 3 6 5 7 8]\n",
      "L: [  0   9 133   5   6 230  19   7 434  25 210  29  32  40   3  23   2  63\n",
      "   4 107  20  67  93  27 103 118  16  28  44   1  10 366  48  75  17  57\n",
      "  61  90 181  38  52 251   8 186  13 129  55  87  65  82 109  41  76  54\n",
      "  18  99  12  26  79  30  74 178 175 182  70  43  21  68  31 200  24  80\n",
      "  83  96 440  78 193  45 291  62 161 191 119  35  46 335  11  37 286  85\n",
      "  97 135  98  51 152  33 110  53  56 164  58  14  36  66  89 338 148 116\n",
      " 105 112 226  39  94  42 192 268 124 384 157 149  47  86  15 423  49  69\n",
      " 218 241 196  92 155 254 101  60 131  95  64 127 153 108 188  81 126  73\n",
      " 111  50  22 257  88 102 150  59 171 141 146  34]\n",
      "M: [0 1 2 3]\n"
     ]
    }
   ],
   "source": [
    "for label, content in train.items():\n",
    "    print(\"%s:\" % label, train[label].unique())"
   ]
  },
  {
   "cell_type": "code",
   "execution_count": 5,
   "metadata": {},
   "outputs": [
    {
     "data": {
      "text/html": [
       "<div>\n",
       "<style scoped>\n",
       "    .dataframe tbody tr th:only-of-type {\n",
       "        vertical-align: middle;\n",
       "    }\n",
       "\n",
       "    .dataframe tbody tr th {\n",
       "        vertical-align: top;\n",
       "    }\n",
       "\n",
       "    .dataframe thead th {\n",
       "        text-align: right;\n",
       "    }\n",
       "</style>\n",
       "<table border=\"1\" class=\"dataframe\">\n",
       "  <thead>\n",
       "    <tr style=\"text-align: right;\">\n",
       "      <th></th>\n",
       "      <th>A</th>\n",
       "      <th>B</th>\n",
       "      <th>C</th>\n",
       "      <th>D</th>\n",
       "      <th>E</th>\n",
       "      <th>F</th>\n",
       "      <th>G</th>\n",
       "      <th>H</th>\n",
       "      <th>I</th>\n",
       "      <th>J</th>\n",
       "      <th>K</th>\n",
       "      <th>L</th>\n",
       "      <th>M</th>\n",
       "    </tr>\n",
       "  </thead>\n",
       "  <tbody>\n",
       "    <tr>\n",
       "      <th>0</th>\n",
       "      <td>1</td>\n",
       "      <td>43</td>\n",
       "      <td>0</td>\n",
       "      <td>6</td>\n",
       "      <td>6</td>\n",
       "      <td>15</td>\n",
       "      <td>15</td>\n",
       "      <td>2.20</td>\n",
       "      <td>0</td>\n",
       "      <td>0</td>\n",
       "      <td>0</td>\n",
       "      <td>0</td>\n",
       "      <td>0</td>\n",
       "    </tr>\n",
       "    <tr>\n",
       "      <th>1</th>\n",
       "      <td>1</td>\n",
       "      <td>47</td>\n",
       "      <td>0</td>\n",
       "      <td>14</td>\n",
       "      <td>7</td>\n",
       "      <td>33</td>\n",
       "      <td>17</td>\n",
       "      <td>1.26</td>\n",
       "      <td>0</td>\n",
       "      <td>0</td>\n",
       "      <td>0</td>\n",
       "      <td>0</td>\n",
       "      <td>0</td>\n",
       "    </tr>\n",
       "    <tr>\n",
       "      <th>2</th>\n",
       "      <td>1</td>\n",
       "      <td>29</td>\n",
       "      <td>0</td>\n",
       "      <td>7</td>\n",
       "      <td>7</td>\n",
       "      <td>18</td>\n",
       "      <td>18</td>\n",
       "      <td>1.67</td>\n",
       "      <td>0</td>\n",
       "      <td>0</td>\n",
       "      <td>0</td>\n",
       "      <td>0</td>\n",
       "      <td>0</td>\n",
       "    </tr>\n",
       "    <tr>\n",
       "      <th>3</th>\n",
       "      <td>1</td>\n",
       "      <td>60</td>\n",
       "      <td>0</td>\n",
       "      <td>7</td>\n",
       "      <td>7</td>\n",
       "      <td>18</td>\n",
       "      <td>18</td>\n",
       "      <td>3.00</td>\n",
       "      <td>0</td>\n",
       "      <td>0</td>\n",
       "      <td>0</td>\n",
       "      <td>0</td>\n",
       "      <td>0</td>\n",
       "    </tr>\n",
       "    <tr>\n",
       "      <th>4</th>\n",
       "      <td>1</td>\n",
       "      <td>55</td>\n",
       "      <td>0</td>\n",
       "      <td>7</td>\n",
       "      <td>0</td>\n",
       "      <td>18</td>\n",
       "      <td>0</td>\n",
       "      <td>0.00</td>\n",
       "      <td>0</td>\n",
       "      <td>0</td>\n",
       "      <td>0</td>\n",
       "      <td>0</td>\n",
       "      <td>0</td>\n",
       "    </tr>\n",
       "  </tbody>\n",
       "</table>\n",
       "</div>"
      ],
      "text/plain": [
       "   A   B  C   D  E   F   G     H  I  J  K  L  M\n",
       "0  1  43  0   6  6  15  15  2.20  0  0  0  0  0\n",
       "1  1  47  0  14  7  33  17  1.26  0  0  0  0  0\n",
       "2  1  29  0   7  7  18  18  1.67  0  0  0  0  0\n",
       "3  1  60  0   7  7  18  18  3.00  0  0  0  0  0\n",
       "4  1  55  0   7  0  18   0  0.00  0  0  0  0  0"
      ]
     },
     "execution_count": 5,
     "metadata": {},
     "output_type": "execute_result"
    }
   ],
   "source": [
    "gender_list = []\n",
    "gender_labels = ['M', 'F']\n",
    "for i in range(len(train)):\n",
    "    gender_list.append(gender_labels.index(train['A'][i]))\n",
    "\n",
    "train['A'] = gender_list\n",
    "train.head()"
   ]
  },
  {
   "cell_type": "code",
   "execution_count": 6,
   "metadata": {},
   "outputs": [
    {
     "name": "stdout",
     "output_type": "stream",
     "text": [
      "<class 'pandas.core.frame.DataFrame'>\n",
      "RangeIndex: 1242 entries, 0 to 1241\n",
      "Data columns (total 13 columns):\n",
      " #   Column  Non-Null Count  Dtype  \n",
      "---  ------  --------------  -----  \n",
      " 0   A       1242 non-null   int64  \n",
      " 1   B       1242 non-null   int64  \n",
      " 2   C       1242 non-null   int64  \n",
      " 3   D       1242 non-null   int64  \n",
      " 4   E       1242 non-null   int64  \n",
      " 5   F       1242 non-null   int64  \n",
      " 6   G       1242 non-null   int64  \n",
      " 7   H       1242 non-null   float64\n",
      " 8   I       1242 non-null   int64  \n",
      " 9   J       1242 non-null   int64  \n",
      " 10  K       1242 non-null   int64  \n",
      " 11  L       1242 non-null   int64  \n",
      " 12  M       1242 non-null   int64  \n",
      "dtypes: float64(1), int64(12)\n",
      "memory usage: 126.3 KB\n"
     ]
    }
   ],
   "source": [
    "train.info()"
   ]
  },
  {
   "cell_type": "code",
   "execution_count": 7,
   "metadata": {},
   "outputs": [
    {
     "name": "stdout",
     "output_type": "stream",
     "text": [
      "A: [1 0]\n",
      "B: [43 47 29 60 55 24 49 30 26 40 45 33 50 44 25 62 58 39 38 56 51 54 42 32\n",
      " 36 52 63 66 68 59 64 73 70 67 41 53 48 46 57 21 35 31 27 28 61 37 18 20\n",
      " 22 34 23 69 65 71]\n",
      "C: [0 5 3 4 7 6 2 1]\n",
      "D: [ 6 14  7 13 12 28  4 32 16 17 23  0 27 15  9 21 64  5 11 26 38 52  3 25\n",
      " 10 19 18 20 44 22 24 31  8 29 30 34 33 39 49 46 42 45 47 37 40 41 48 51\n",
      " 53 50 36 55 35 43 58 59 57 56]\n",
      "E: [ 6  7  0 13 27  4 32 16 17 19 12 14 10 20  5 63 15 22 11  8  9 18 38 52\n",
      " 43 26 24 25 23 28 21 29 31 30 34 33 39 49 46 42 47 37 40 45 44 41 51 53\n",
      " 50 48 55 35 56 57  3]\n",
      "F: [ 15  33  18  36  27  71   9  88  45  48  66   0  39  31  16  30  17  67\n",
      " 107 141  72  54  51  57  50 123  63  52  81  53  55  69  90  70  21  78\n",
      "  34  41  35  37  68  75  80  76  12  94  92 138 129 115 130 108 105 122\n",
      " 117 116 111 120 112  99 103 131 149 140 128  73  62  74  42  84  82 158\n",
      "  60  98  87  97  24  59  10  23  32  28  43  86  77 118 126  64 160 144\n",
      " 100  93 165  91 159  49  44  26  56  96  85 114  95 113 109 106 110 104\n",
      " 125 124 119 134 132 150 143  83 147]\n",
      "G: [ 15  17  18   0  36  14  71   9  88  45  48  54  16  11  33  42  21  51\n",
      "  81  12  30  60  39  82 228  43  66  32  24  26  49 107 141  57  50 123\n",
      "  52  72  53  69  70  78  34  41  31  35  37  27  68  55  75  80  76  94\n",
      "  90  92 138 129 115 130 108 105 122 117 116 111 120 112  99 103 131 149\n",
      " 140 128  87  62  74  84 158  65  98  67  59  23  28  63  40  86  77 118\n",
      " 124  64 160 144 100  93 165  73 159  10  56  96  85 114  95 113 109 106\n",
      " 110 104 125 119 134 132 150 143 147]\n",
      "H: [2.2  1.26 1.67 3.   0.   2.21 2.39 2.24 3.5  1.21 2.17 2.57 2.33 2.9\n",
      " 1.75 3.58 2.72 0.4  1.58 1.23 0.69 4.04 3.61 3.93 3.43 3.64 3.68 3.82\n",
      " 3.79 1.91 0.63 3.45 3.1  3.21 3.29 3.14 3.38 3.6  2.46 0.2  2.88 1.04\n",
      " 3.15 2.14 3.44 2.34 2.97 3.34 3.98 2.5  4.25 4.1  1.5  4.   3.3  3.02\n",
      " 2.36 2.67 1.9  2.4  1.7  2.62 1.42 1.83 4.17 1.19 3.92 2.43 2.98 3.17\n",
      " 1.57 0.83 3.65 2.08 1.25 3.33 1.79 1.   3.76 1.13 1.59 2.15 3.39 3.01\n",
      " 2.92 2.38 3.2  4.5  2.58 4.23 4.19 2.13 3.25 3.71 4.33 3.13 2.   3.42\n",
      " 4.14 3.55 3.63 3.46 1.98 2.81 4.42 4.4  3.54 3.48 3.18 2.35 3.26 2.12\n",
      " 1.41 3.24 4.22 3.06 3.47 1.97 1.17 3.95 4.46 4.37 2.8  3.07 2.16 4.2\n",
      " 2.56 3.49 3.91 2.76 2.66 4.43 2.91 3.59 4.38 2.7  3.67 2.75 3.83 4.08\n",
      " 1.33 3.19 3.08 3.04 2.25 3.69 2.95 3.35 4.13 1.29 2.29 4.09 3.84 3.97\n",
      " 4.06 3.8  2.69 2.55 3.05 2.85 3.77 4.11 3.09 4.44 3.81 3.94 3.27 2.32\n",
      " 3.23 2.96 4.21 4.18 3.99 3.28 2.06 2.44 4.07 3.96 4.36 2.02 4.02 4.03\n",
      " 4.31 1.69 4.05 2.71 3.85 4.26 3.78 3.74 2.77 1.03 1.94 4.28 2.1  2.26\n",
      " 1.54 1.92 2.61 2.59 3.31 4.12 4.35 2.65 4.27 3.75 2.42 1.36 2.63 3.88\n",
      " 2.37 3.66 3.56 3.4  2.83 0.97 0.98 2.89 2.52 4.01 3.57 1.65 4.16 2.93\n",
      " 0.73 3.52 3.73 2.86 3.9  1.88 2.79 3.32 3.16 3.87 4.34 3.53 3.37 1.85\n",
      " 1.96 1.4  2.87 2.03 2.31 0.17 3.72 2.41 1.6  1.63 2.54 3.12 1.28 4.39\n",
      " 1.31 2.84 3.36 4.29 3.62 4.3  2.99 3.22 2.74 3.03 0.75 0.42 2.19 2.68\n",
      " 0.96 2.04 2.94 3.51 0.93 3.86 2.73 3.41 2.78 4.47 0.58 0.52 4.24 1.76\n",
      " 2.53 1.87 1.95 1.08 4.15 3.89 1.45]\n",
      "I: [0 1 2 3 4]\n",
      "J: [0 2 6 1 5 4 3 7 9 8]\n",
      "K: [0 4 1 2 3 6 5 7 8]\n",
      "L: [  0   9 133   5   6 230  19   7 434  25 210  29  32  40   3  23   2  63\n",
      "   4 107  20  67  93  27 103 118  16  28  44   1  10 366  48  75  17  57\n",
      "  61  90 181  38  52 251   8 186  13 129  55  87  65  82 109  41  76  54\n",
      "  18  99  12  26  79  30  74 178 175 182  70  43  21  68  31 200  24  80\n",
      "  83  96 440  78 193  45 291  62 161 191 119  35  46 335  11  37 286  85\n",
      "  97 135  98  51 152  33 110  53  56 164  58  14  36  66  89 338 148 116\n",
      " 105 112 226  39  94  42 192 268 124 384 157 149  47  86  15 423  49  69\n",
      " 218 241 196  92 155 254 101  60 131  95  64 127 153 108 188  81 126  73\n",
      " 111  50  22 257  88 102 150  59 171 141 146  34]\n",
      "M: [0 1 2 3]\n"
     ]
    }
   ],
   "source": [
    "for label, content in train.items():\n",
    "    print(\"%s:\" % label, train[label].unique())"
   ]
  },
  {
   "cell_type": "code",
   "execution_count": 8,
   "metadata": {},
   "outputs": [
    {
     "data": {
      "text/plain": [
       "1242"
      ]
     },
     "execution_count": 8,
     "metadata": {},
     "output_type": "execute_result"
    }
   ],
   "source": [
    "len(train)"
   ]
  },
  {
   "cell_type": "code",
   "execution_count": 9,
   "metadata": {},
   "outputs": [
    {
     "data": {
      "text/plain": [
       "M\n",
       "0    146\n",
       "1    930\n",
       "2    126\n",
       "3     40\n",
       "dtype: int64"
      ]
     },
     "execution_count": 9,
     "metadata": {},
     "output_type": "execute_result"
    }
   ],
   "source": [
    "train.groupby(['M']).size()"
   ]
  },
  {
   "cell_type": "code",
   "execution_count": 10,
   "metadata": {},
   "outputs": [],
   "source": [
    "y = train['M'].values\n",
    "x = train.drop(['M'], axis=1)\n",
    "x = x.values\n",
    "\n",
    "x = (x - x.min()) / (x.max() - x.min())"
   ]
  },
  {
   "cell_type": "code",
   "execution_count": 11,
   "metadata": {},
   "outputs": [
    {
     "name": "stdout",
     "output_type": "stream",
     "text": [
      "Class=0, n=146 (11.755%)\n",
      "Class=1, n=930 (74.879%)\n",
      "Class=2, n=126 (10.145%)\n",
      "Class=3, n=40 (3.221%)\n"
     ]
    },
    {
     "data": {
      "image/png": "[encoded data removed]",
      "text/plain": [
       "<Figure size 432x288 with 1 Axes>"
      ]
     },
     "metadata": {
      "needs_background": "light"
     },
     "output_type": "display_data"
    }
   ],
   "source": [
    "def count_and_plot(y): \n",
    "    counter = Counter(y)\n",
    "    for k,v in counter.items():\n",
    "        print('Class=%d, n=%d (%.3f%%)' % (k, v, v / len(y) * 100))\n",
    "    pyplot.bar(counter.keys(), counter.values())\n",
    "    plt.xticks([0,1,2,3])\n",
    "    pyplot.show()\n",
    "    \n",
    "\n",
    "count_and_plot(y)"
   ]
  },
  {
   "cell_type": "code",
   "execution_count": 12,
   "metadata": {},
   "outputs": [
    {
     "name": "stdout",
     "output_type": "stream",
     "text": [
      "Class=0, n=40 (25.000%)\n",
      "Class=1, n=40 (25.000%)\n",
      "Class=2, n=40 (25.000%)\n",
      "Class=3, n=40 (25.000%)\n"
     ]
    },
    {
     "data": {
      "image/png": "[encoded data removed]",
      "text/plain": [
       "<Figure size 432x288 with 1 Axes>"
      ]
     },
     "metadata": {
      "needs_background": "light"
     },
     "output_type": "display_data"
    }
   ],
   "source": [
    "from imblearn.under_sampling import RandomUnderSampler\n",
    "re_x, re_y = RandomUnderSampler(random_state=0).fit_resample(x, y)\n",
    "count_and_plot(re_y)"
   ]
  },
  {
   "cell_type": "code",
   "execution_count": 13,
   "metadata": {},
   "outputs": [],
   "source": [
    "from sklearn.model_selection import train_test_split\n",
    "import tensorflow as tf\n",
    "\n",
    "x_train , x_test , y_train , y_test = train_test_split(re_x, re_y,test_size=0.2,\n",
    "                                                       shuffle = True,\n",
    "                                                       random_state=42)\n",
    "\n",
    "y_train = tf.keras.utils.to_categorical(y_train, num_classes=4)\n",
    "y_test = tf.keras.utils.to_categorical(y_test, num_classes=4)"
   ]
  },
  {
   "cell_type": "code",
   "execution_count": 14,
   "metadata": {},
   "outputs": [
    {
     "name": "stdout",
     "output_type": "stream",
     "text": [
      "WARNING:tensorflow:From D:\\anaconda\\envs\\gpu\\lib\\site-packages\\tensorflow_core\\python\\ops\\resource_variable_ops.py:1630: calling BaseResourceVariable.__init__ (from tensorflow.python.ops.resource_variable_ops) with constraint is deprecated and will be removed in a future version.\n",
      "Instructions for updating:\n",
      "If using Keras pass *_constraint arguments to layers.\n"
     ]
    }
   ],
   "source": [
    "model = tf.keras.Sequential(\n",
    "    [tf.keras.layers.Dense(units=32, activation='relu', input_shape=x_train[0].shape),\n",
    "     tf.keras.layers.Dense(units=16, activation='relu'),\n",
    "     tf.keras.layers.Dense(units=8, activation='relu'),\n",
    "     tf.keras.layers.Dense(units=4, activation='softmax') ])"
   ]
  },
  {
   "cell_type": "code",
   "execution_count": 15,
   "metadata": {},
   "outputs": [
    {
     "name": "stdout",
     "output_type": "stream",
     "text": [
      "Model: \"sequential\"\n",
      "_________________________________________________________________\n",
      "Layer (type)                 Output Shape              Param #   \n",
      "=================================================================\n",
      "dense (Dense)                (None, 32)                416       \n",
      "_________________________________________________________________\n",
      "dense_1 (Dense)              (None, 16)                528       \n",
      "_________________________________________________________________\n",
      "dense_2 (Dense)              (None, 8)                 136       \n",
      "_________________________________________________________________\n",
      "dense_3 (Dense)              (None, 4)                 36        \n",
      "=================================================================\n",
      "Total params: 1,116\n",
      "Trainable params: 1,116\n",
      "Non-trainable params: 0\n",
      "_________________________________________________________________\n"
     ]
    }
   ],
   "source": [
    "model.compile(optimizer=tf.keras.optimizers.Adam(lr=0.005),\n",
    "              loss='categorical_crossentropy',\n",
    "              metrics=['accuracy'])\n",
    "model.summary()\n"
   ]
  },
  {
   "cell_type": "code",
   "execution_count": 16,
   "metadata": {
    "scrolled": true
   },
   "outputs": [
    {
     "name": "stdout",
     "output_type": "stream",
     "text": [
      "Train on 102 samples, validate on 26 samples\n",
      "Epoch 1/1000\n",
      "102/102 [==============================] - 0s 3ms/sample - loss: 1.3876 - acc: 0.2549 - val_loss: 1.3800 - val_acc: 0.2308\n",
      "Epoch 2/1000\n",
      "102/102 [==============================] - 0s 313us/sample - loss: 1.3682 - acc: 0.2745 - val_loss: 1.3675 - val_acc: 0.2308\n",
      "Epoch 3/1000\n",
      "102/102 [==============================] - 0s 303us/sample - loss: 1.3445 - acc: 0.2745 - val_loss: 1.3452 - val_acc: 0.2308\n",
      "Epoch 4/1000\n",
      "102/102 [==============================] - 0s 342us/sample - loss: 1.3034 - acc: 0.3333 - val_loss: 1.2804 - val_acc: 0.5769\n",
      "Epoch 5/1000\n",
      "102/102 [==============================] - 0s 469us/sample - loss: 1.2365 - acc: 0.4902 - val_loss: 1.2044 - val_acc: 0.4615\n",
      "Epoch 6/1000\n",
      "102/102 [==============================] - 0s 332us/sample - loss: 1.1526 - acc: 0.5098 - val_loss: 1.0993 - val_acc: 0.6538\n",
      "Epoch 7/1000\n",
      "102/102 [==============================] - 0s 225us/sample - loss: 1.0591 - acc: 0.5392 - val_loss: 1.0171 - val_acc: 0.6538\n",
      "Epoch 8/1000\n",
      "102/102 [==============================] - 0s 225us/sample - loss: 1.0114 - acc: 0.5196 - val_loss: 1.0191 - val_acc: 0.4231\n",
      "Epoch 9/1000\n",
      "102/102 [==============================] - 0s 225us/sample - loss: 0.9473 - acc: 0.4804 - val_loss: 0.9729 - val_acc: 0.4615\n",
      "Epoch 10/1000\n",
      "102/102 [==============================] - 0s 205us/sample - loss: 0.9155 - acc: 0.5294 - val_loss: 0.9573 - val_acc: 0.6154\n",
      "Epoch 11/1000\n",
      "102/102 [==============================] - 0s 225us/sample - loss: 0.8987 - acc: 0.5686 - val_loss: 0.9738 - val_acc: 0.5000\n",
      "Epoch 12/1000\n",
      "102/102 [==============================] - 0s 225us/sample - loss: 0.8771 - acc: 0.5098 - val_loss: 0.9541 - val_acc: 0.6154\n",
      "Epoch 13/1000\n",
      "102/102 [==============================] - 0s 215us/sample - loss: 0.8622 - acc: 0.6176 - val_loss: 0.9454 - val_acc: 0.5385\n",
      "Epoch 14/1000\n",
      "102/102 [==============================] - 0s 205us/sample - loss: 0.8286 - acc: 0.5980 - val_loss: 0.9191 - val_acc: 0.6154\n",
      "Epoch 15/1000\n",
      "102/102 [==============================] - 0s 254us/sample - loss: 0.8103 - acc: 0.5588 - val_loss: 0.9278 - val_acc: 0.5385\n",
      "Epoch 16/1000\n",
      "102/102 [==============================] - 0s 235us/sample - loss: 0.7833 - acc: 0.6275 - val_loss: 0.8952 - val_acc: 0.6154\n",
      "Epoch 17/1000\n",
      "102/102 [==============================] - 0s 215us/sample - loss: 0.7836 - acc: 0.6176 - val_loss: 0.8970 - val_acc: 0.6154\n",
      "Epoch 18/1000\n",
      "102/102 [==============================] - 0s 225us/sample - loss: 0.7571 - acc: 0.5784 - val_loss: 0.8983 - val_acc: 0.5385\n",
      "Epoch 19/1000\n",
      "102/102 [==============================] - 0s 205us/sample - loss: 0.7561 - acc: 0.6569 - val_loss: 0.8731 - val_acc: 0.6538\n",
      "Epoch 20/1000\n",
      "102/102 [==============================] - 0s 215us/sample - loss: 0.7444 - acc: 0.6961 - val_loss: 0.8606 - val_acc: 0.6923\n",
      "Epoch 21/1000\n",
      "102/102 [==============================] - 0s 225us/sample - loss: 0.7154 - acc: 0.6961 - val_loss: 0.8534 - val_acc: 0.6923\n",
      "Epoch 22/1000\n",
      "102/102 [==============================] - 0s 205us/sample - loss: 0.6936 - acc: 0.6765 - val_loss: 0.8613 - val_acc: 0.5385\n",
      "Epoch 23/1000\n",
      "102/102 [==============================] - 0s 225us/sample - loss: 0.7504 - acc: 0.5392 - val_loss: 0.8501 - val_acc: 0.6538\n",
      "Epoch 24/1000\n",
      "102/102 [==============================] - 0s 332us/sample - loss: 0.6635 - acc: 0.7451 - val_loss: 0.8077 - val_acc: 0.6923\n",
      "Epoch 25/1000\n",
      "102/102 [==============================] - 0s 372us/sample - loss: 0.6753 - acc: 0.6569 - val_loss: 0.7978 - val_acc: 0.6923\n",
      "Epoch 26/1000\n",
      "102/102 [==============================] - 0s 225us/sample - loss: 0.6552 - acc: 0.7157 - val_loss: 0.8430 - val_acc: 0.5385\n",
      "Epoch 27/1000\n",
      "102/102 [==============================] - 0s 244us/sample - loss: 0.6790 - acc: 0.6078 - val_loss: 0.7690 - val_acc: 0.6538\n",
      "Epoch 28/1000\n",
      "102/102 [==============================] - 0s 225us/sample - loss: 0.6447 - acc: 0.7059 - val_loss: 0.7721 - val_acc: 0.6538\n",
      "Epoch 29/1000\n",
      "102/102 [==============================] - 0s 235us/sample - loss: 0.6112 - acc: 0.7451 - val_loss: 0.7756 - val_acc: 0.6538\n",
      "Epoch 30/1000\n",
      "102/102 [==============================] - 0s 215us/sample - loss: 0.6047 - acc: 0.7157 - val_loss: 0.7496 - val_acc: 0.6923\n",
      "Epoch 31/1000\n",
      "102/102 [==============================] - 0s 215us/sample - loss: 0.5820 - acc: 0.7157 - val_loss: 0.7710 - val_acc: 0.6923\n",
      "Epoch 32/1000\n",
      "102/102 [==============================] - 0s 215us/sample - loss: 0.5813 - acc: 0.7451 - val_loss: 0.7354 - val_acc: 0.6923\n",
      "Epoch 33/1000\n",
      "102/102 [==============================] - 0s 225us/sample - loss: 0.5707 - acc: 0.7255 - val_loss: 0.7318 - val_acc: 0.6538\n",
      "Epoch 34/1000\n",
      "102/102 [==============================] - 0s 235us/sample - loss: 0.5400 - acc: 0.7451 - val_loss: 0.7304 - val_acc: 0.7308\n",
      "Epoch 35/1000\n",
      "102/102 [==============================] - 0s 235us/sample - loss: 0.5402 - acc: 0.7843 - val_loss: 0.7284 - val_acc: 0.6923\n",
      "Epoch 36/1000\n",
      "102/102 [==============================] - 0s 215us/sample - loss: 0.5484 - acc: 0.7353 - val_loss: 0.7068 - val_acc: 0.6923\n",
      "Epoch 37/1000\n",
      "102/102 [==============================] - 0s 225us/sample - loss: 0.5273 - acc: 0.7745 - val_loss: 0.6932 - val_acc: 0.6923\n",
      "Epoch 38/1000\n",
      "102/102 [==============================] - 0s 215us/sample - loss: 0.5214 - acc: 0.7647 - val_loss: 0.7079 - val_acc: 0.6923\n",
      "Epoch 39/1000\n",
      "102/102 [==============================] - 0s 235us/sample - loss: 0.5467 - acc: 0.6961 - val_loss: 0.7199 - val_acc: 0.7308\n",
      "Epoch 40/1000\n",
      "102/102 [==============================] - 0s 225us/sample - loss: 0.5401 - acc: 0.7745 - val_loss: 0.7132 - val_acc: 0.6923\n",
      "Epoch 41/1000\n",
      "102/102 [==============================] - 0s 244us/sample - loss: 0.5223 - acc: 0.7549 - val_loss: 0.6715 - val_acc: 0.7308\n",
      "Epoch 42/1000\n",
      "102/102 [==============================] - 0s 225us/sample - loss: 0.4964 - acc: 0.7843 - val_loss: 0.6656 - val_acc: 0.7308\n",
      "Epoch 43/1000\n",
      "102/102 [==============================] - 0s 225us/sample - loss: 0.4908 - acc: 0.7843 - val_loss: 0.6711 - val_acc: 0.7308\n",
      "Epoch 44/1000\n",
      "102/102 [==============================] - 0s 225us/sample - loss: 0.4717 - acc: 0.7647 - val_loss: 0.6809 - val_acc: 0.7308\n",
      "Epoch 45/1000\n",
      "102/102 [==============================] - 0s 225us/sample - loss: 0.4848 - acc: 0.7941 - val_loss: 0.6736 - val_acc: 0.7308\n",
      "Epoch 46/1000\n",
      "102/102 [==============================] - 0s 225us/sample - loss: 0.4611 - acc: 0.8039 - val_loss: 0.6701 - val_acc: 0.7308\n",
      "Epoch 47/1000\n",
      "102/102 [==============================] - 0s 225us/sample - loss: 0.4552 - acc: 0.8137 - val_loss: 0.6724 - val_acc: 0.7308\n",
      "Epoch 48/1000\n",
      "102/102 [==============================] - 0s 244us/sample - loss: 0.4706 - acc: 0.7941 - val_loss: 0.6674 - val_acc: 0.7308\n",
      "Epoch 49/1000\n",
      "102/102 [==============================] - 0s 244us/sample - loss: 0.4654 - acc: 0.7843 - val_loss: 0.6641 - val_acc: 0.7308\n",
      "Epoch 50/1000\n",
      "102/102 [==============================] - 0s 225us/sample - loss: 0.5056 - acc: 0.7255 - val_loss: 0.6596 - val_acc: 0.7308\n",
      "Epoch 51/1000\n",
      "102/102 [==============================] - 0s 196us/sample - loss: 0.4376 - acc: 0.7745 - val_loss: 0.6976 - val_acc: 0.7308\n",
      "Epoch 52/1000\n",
      "102/102 [==============================] - 0s 215us/sample - loss: 0.4261 - acc: 0.8137 - val_loss: 0.6632 - val_acc: 0.7308\n",
      "Epoch 53/1000\n",
      "102/102 [==============================] - 0s 215us/sample - loss: 0.4335 - acc: 0.8039 - val_loss: 0.6628 - val_acc: 0.7692\n",
      "Epoch 54/1000\n",
      "102/102 [==============================] - 0s 215us/sample - loss: 0.4252 - acc: 0.7941 - val_loss: 0.6556 - val_acc: 0.7692\n",
      "Epoch 55/1000\n",
      "102/102 [==============================] - 0s 225us/sample - loss: 0.4413 - acc: 0.8333 - val_loss: 0.6474 - val_acc: 0.7692\n",
      "Epoch 56/1000\n",
      "102/102 [==============================] - 0s 225us/sample - loss: 0.4712 - acc: 0.7647 - val_loss: 0.6967 - val_acc: 0.7692\n",
      "Epoch 57/1000\n",
      "102/102 [==============================] - 0s 215us/sample - loss: 0.4755 - acc: 0.8039 - val_loss: 0.7082 - val_acc: 0.6923\n",
      "Epoch 58/1000\n",
      "102/102 [==============================] - 0s 205us/sample - loss: 0.4696 - acc: 0.7353 - val_loss: 0.7074 - val_acc: 0.6923\n",
      "Epoch 59/1000\n",
      "102/102 [==============================] - 0s 205us/sample - loss: 0.4372 - acc: 0.7843 - val_loss: 0.6731 - val_acc: 0.6923\n",
      "Epoch 60/1000\n",
      "102/102 [==============================] - 0s 215us/sample - loss: 0.4271 - acc: 0.8039 - val_loss: 0.6604 - val_acc: 0.7308\n",
      "Epoch 61/1000\n",
      "102/102 [==============================] - 0s 235us/sample - loss: 0.4051 - acc: 0.8235 - val_loss: 0.6424 - val_acc: 0.7692\n",
      "Epoch 62/1000\n",
      "102/102 [==============================] - 0s 205us/sample - loss: 0.4189 - acc: 0.7647 - val_loss: 0.6510 - val_acc: 0.7692\n",
      "Epoch 63/1000\n",
      "102/102 [==============================] - 0s 205us/sample - loss: 0.4072 - acc: 0.7941 - val_loss: 0.6297 - val_acc: 0.7692\n",
      "Epoch 64/1000\n",
      "102/102 [==============================] - 0s 215us/sample - loss: 0.4001 - acc: 0.7941 - val_loss: 0.6304 - val_acc: 0.7308\n",
      "Epoch 65/1000\n",
      "102/102 [==============================] - 0s 225us/sample - loss: 0.3999 - acc: 0.7941 - val_loss: 0.6293 - val_acc: 0.7308\n",
      "Epoch 66/1000\n",
      "102/102 [==============================] - 0s 225us/sample - loss: 0.4034 - acc: 0.8039 - val_loss: 0.6340 - val_acc: 0.7308\n",
      "Epoch 67/1000\n",
      "102/102 [==============================] - 0s 225us/sample - loss: 0.3957 - acc: 0.7941 - val_loss: 0.6628 - val_acc: 0.7692\n",
      "Epoch 68/1000\n",
      "102/102 [==============================] - 0s 215us/sample - loss: 0.4140 - acc: 0.7941 - val_loss: 0.6337 - val_acc: 0.7692\n",
      "Epoch 69/1000\n",
      "102/102 [==============================] - 0s 215us/sample - loss: 0.4262 - acc: 0.7745 - val_loss: 0.6443 - val_acc: 0.8077\n",
      "Epoch 70/1000\n",
      "102/102 [==============================] - 0s 215us/sample - loss: 0.4129 - acc: 0.7843 - val_loss: 0.5988 - val_acc: 0.7308\n",
      "Epoch 71/1000\n",
      "102/102 [==============================] - 0s 225us/sample - loss: 0.3992 - acc: 0.8235 - val_loss: 0.6007 - val_acc: 0.7308\n",
      "Epoch 72/1000\n",
      "102/102 [==============================] - 0s 225us/sample - loss: 0.3905 - acc: 0.8137 - val_loss: 0.6146 - val_acc: 0.7692\n",
      "Epoch 73/1000\n",
      "102/102 [==============================] - 0s 215us/sample - loss: 0.3961 - acc: 0.8039 - val_loss: 0.6378 - val_acc: 0.7308\n",
      "Epoch 74/1000\n",
      "102/102 [==============================] - 0s 215us/sample - loss: 0.4026 - acc: 0.8333 - val_loss: 0.6329 - val_acc: 0.7308\n",
      "Epoch 75/1000\n",
      "102/102 [==============================] - 0s 215us/sample - loss: 0.3961 - acc: 0.8039 - val_loss: 0.6156 - val_acc: 0.7308\n",
      "Epoch 76/1000\n",
      "102/102 [==============================] - 0s 225us/sample - loss: 0.3874 - acc: 0.7843 - val_loss: 0.6244 - val_acc: 0.7308\n",
      "Epoch 77/1000\n",
      "102/102 [==============================] - 0s 225us/sample - loss: 0.3881 - acc: 0.8039 - val_loss: 0.6385 - val_acc: 0.7308\n",
      "Epoch 78/1000\n",
      "102/102 [==============================] - 0s 235us/sample - loss: 0.3821 - acc: 0.8039 - val_loss: 0.6518 - val_acc: 0.6923\n",
      "Epoch 79/1000\n",
      "102/102 [==============================] - 0s 225us/sample - loss: 0.4357 - acc: 0.7451 - val_loss: 0.7231 - val_acc: 0.7692\n",
      "Epoch 80/1000\n",
      "102/102 [==============================] - 0s 205us/sample - loss: 0.3835 - acc: 0.8039 - val_loss: 0.6783 - val_acc: 0.6923\n"
     ]
    }
   ],
   "source": [
    "history = model.fit(x_train,\n",
    "                    y_train,\n",
    "                    epochs=1000,\n",
    "                    batch_size=10,\n",
    "                    validation_split=0.2,\n",
    "                    callbacks=[tf.keras.callbacks.EarlyStopping(patience=10, monitor='val_loss')])"
   ]
  },
  {
   "cell_type": "code",
   "execution_count": 17,
   "metadata": {},
   "outputs": [],
   "source": [
    "#Save Model\n",
    "model.save('D:/deep-learning/model/noh2.h5')\n",
    "model.save_weights('D:/deep-learning/model/noh2.h5')\n"
   ]
  },
  {
   "cell_type": "code",
   "execution_count": 18,
   "metadata": {
    "scrolled": true
   },
   "outputs": [
    {
     "data": {
      "image/png": "[encoded data removed]",
      "text/plain": [
       "<Figure size 864x288 with 2 Axes>"
      ]
     },
     "metadata": {
      "needs_background": "light"
     },
     "output_type": "display_data"
    }
   ],
   "source": [
    "plt.figure(figsize=(12,4))\n",
    "\n",
    "plt.subplot(1, 2, 1)\n",
    "plt.plot(history.history['acc'], 'b-', label='accuracy')\n",
    "plt.plot(history.history['val_acc'], 'r-', label='val_accuracy')\n",
    "plt.xlabel('Epoch')\n",
    "plt.legend()\n",
    "\n",
    "plt.subplot(1, 2, 2)\n",
    "plt.plot(history.history['loss'], 'b-', label='loss')\n",
    "plt.plot(history.history['val_loss'], 'r-', label='val_loss')\n",
    "plt.xlabel('Epoch')\n",
    "plt.legend()\n",
    "\n",
    "\n",
    "plt.show()"
   ]
  },
  {
   "cell_type": "code",
   "execution_count": 19,
   "metadata": {},
   "outputs": [
    {
     "name": "stdout",
     "output_type": "stream",
     "text": [
      "32/32 [==============================] - 0s 31us/sample - loss: 0.6630 - acc: 0.7500\n"
     ]
    },
    {
     "data": {
      "text/plain": [
       "[0.6629828214645386, 0.75]"
      ]
     },
     "execution_count": 19,
     "metadata": {},
     "output_type": "execute_result"
    }
   ],
   "source": [
    "model.evaluate(x_test, y_test)"
   ]
  },
  {
   "cell_type": "code",
   "execution_count": 20,
   "metadata": {},
   "outputs": [
    {
     "name": "stdout",
     "output_type": "stream",
     "text": [
      "[[0.00227273 0.09772727 0.         0.04772727 0.06136364 0.\n",
      "  0.18636364 0.00781818 0.         0.         0.         0.        ]\n",
      " [0.00227273 0.13181818 0.         0.01363636 0.         0.03409091\n",
      "  0.         0.         0.         0.         0.         0.        ]\n",
      " [0.00227273 0.12954545 0.         0.05681818 0.05681818 0.16363636\n",
      "  0.16363636 0.00638636 0.00454545 0.         0.         0.        ]]\n"
     ]
    }
   ],
   "source": [
    "print(x_test[0:3])"
   ]
  },
  {
   "cell_type": "code",
   "execution_count": 21,
   "metadata": {},
   "outputs": [
    {
     "name": "stdout",
     "output_type": "stream",
     "text": [
      "[[0. 0. 1. 0.]\n",
      " [0. 0. 1. 0.]\n",
      " [0. 0. 0. 1.]]\n"
     ]
    }
   ],
   "source": [
    "print(y_test[0:3])"
   ]
  },
  {
   "cell_type": "code",
   "execution_count": 22,
   "metadata": {},
   "outputs": [
    {
     "name": "stdout",
     "output_type": "stream",
     "text": [
      "[[6.0489303e-01 6.0582650e-03 3.6339164e-01 2.5657032e-02]\n",
      " [2.5615245e-01 9.3210365e-05 7.4370790e-01 4.6413021e-05]\n",
      " [3.9525840e-02 1.7474420e-02 2.5768515e-03 9.4042277e-01]]\n"
     ]
    }
   ],
   "source": [
    "print(model.predict(x_test[0:3]))"
   ]
  },
  {
   "cell_type": "code",
   "execution_count": 23,
   "metadata": {},
   "outputs": [],
   "source": [
    "test_x = [[0,50,0,0,0,0,0,0,0,0,0,0]]"
   ]
  },
  {
   "cell_type": "code",
   "execution_count": 24,
   "metadata": {},
   "outputs": [
    {
     "name": "stdout",
     "output_type": "stream",
     "text": [
      "[[1.0000000e+00 0.0000000e+00 4.2153707e-12 0.0000000e+00]]\n"
     ]
    }
   ],
   "source": [
    "print(model.predict([test_x]))"
   ]
  },
  {
   "cell_type": "code",
   "execution_count": null,
   "metadata": {},
   "outputs": [],
   "source": []
  }
 ],
 "metadata": {
  "kernelspec": {
   "display_name": "Python 3",
   "language": "python",
   "name": "python3"
  },
  "language_info": {
   "codemirror_mode": {
    "name": "ipython",
    "version": 3
   },
   "file_extension": ".py",
   "mimetype": "text/x-python",
   "name": "python",
   "nbconvert_exporter": "python",
   "pygments_lexer": "ipython3",
   "version": "3.6.9"
  }
 },
 "nbformat": 4,
 "nbformat_minor": 4
}
